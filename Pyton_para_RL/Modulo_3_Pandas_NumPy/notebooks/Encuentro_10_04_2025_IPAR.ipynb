{
  "nbformat": 4,
  "nbformat_minor": 0,
  "metadata": {
    "colab": {
      "provenance": [],
      "machine_shape": "hm"
    },
    "kernelspec": {
      "name": "python3",
      "display_name": "Python 3"
    },
    "language_info": {
      "name": "python"
    }
  },
  "cells": [
    {
      "cell_type": "code",
      "execution_count": null,
      "metadata": {
        "colab": {
          "base_uri": "https://localhost:8080/"
        },
        "id": "AabyuygDdfCw",
        "outputId": "95d960aa-c544-48ca-ad89-382a7f10ecce"
      },
      "outputs": [
        {
          "output_type": "stream",
          "name": "stdout",
          "text": [
            "Mounted at /content/drive\n"
          ]
        }
      ],
      "source": [
        "from google.colab import drive\n",
        "drive.mount('/content/drive')\n"
      ]
    },
    {
      "cell_type": "code",
      "source": [
        "#Numpy\n",
        "#Pandas\n",
        "#Matplotlib\n",
        "#Seaborn"
      ],
      "metadata": {
        "id": "vEnbLc7DdtGj"
      },
      "execution_count": null,
      "outputs": []
    },
    {
      "cell_type": "code",
      "source": [
        "#Numpy Operaciones con Arrays"
      ],
      "metadata": {
        "id": "3FIaRQp_dzAT"
      },
      "execution_count": null,
      "outputs": []
    },
    {
      "cell_type": "code",
      "source": [
        "import numpy as np\n",
        "import pandas as pd\n",
        "import matplotlib.pyplot as plt\n",
        "import seaborn as sns\n",
        "import time\n",
        "import plotly.express as px"
      ],
      "metadata": {
        "id": "cp3S9dqsj1Se"
      },
      "execution_count": null,
      "outputs": []
    },
    {
      "cell_type": "code",
      "source": [
        "# Desde listas de Python\n",
        "lista_simple = [1, 2, 3, 4, 5]\n",
        "array_1d = np.array(lista_simple)\n",
        "print(\"Array 1D desde lista:\", array_1d)"
      ],
      "metadata": {
        "colab": {
          "base_uri": "https://localhost:8080/"
        },
        "id": "2lwxsXExdz7x",
        "outputId": "04850ef7-18b4-49a0-e538-0411a7867aca"
      },
      "execution_count": null,
      "outputs": [
        {
          "output_type": "stream",
          "name": "stdout",
          "text": [
            "Array 1D desde lista: [1 2 3 4 5]\n"
          ]
        }
      ]
    },
    {
      "cell_type": "code",
      "source": [
        "# Array bidimensional\n",
        "lista_anidada = [[1, 2, 3], [4, 5, 6], [7, 8, 9]]\n",
        "array_2d = np.array(lista_anidada)\n",
        "print(\"\\nArray 2D desde lista anidada:\")\n",
        "print(array_2d)"
      ],
      "metadata": {
        "colab": {
          "base_uri": "https://localhost:8080/"
        },
        "id": "NHYQ0x7id0le",
        "outputId": "e4de6260-e665-4f48-94e1-db93979b635c"
      },
      "execution_count": null,
      "outputs": [
        {
          "output_type": "stream",
          "name": "stdout",
          "text": [
            "\n",
            "Array 2D desde lista anidada:\n",
            "[[1 2 3]\n",
            " [4 5 6]\n",
            " [7 8 9]]\n"
          ]
        }
      ]
    },
    {
      "cell_type": "code",
      "source": [
        "# Funciones constructoras\n",
        "print(\"\\nArrays desde funciones constructoras:\")\n",
        "print(\"Ceros:\", np.zeros(5))\n",
        "print(\"Unos:\", np.ones((2, 3)))\n",
        "print(\"Valores constantes:\", np.full((2, 2), 7))\n",
        "print(\"Matriz identidad:\", np.eye(3))\n",
        "print(\"Valores aleatorios [0,1):\", np.random.random((2, 2)))\n",
        "print(\"Valores aleatorios normales:\", np.random.normal(0, 1, (2, 2)))\n",
        "print(\"Rango secuencial:\", np.arange(0, 10, 2))\n",
        "print(\"Rango espaciado uniformemente:\", np.linspace(0, 1, 5))"
      ],
      "metadata": {
        "colab": {
          "base_uri": "https://localhost:8080/"
        },
        "id": "aJCzTt44d0oy",
        "outputId": "646427cf-6315-49f1-dd66-d2afbfdf9cf6"
      },
      "execution_count": null,
      "outputs": [
        {
          "output_type": "stream",
          "name": "stdout",
          "text": [
            "\n",
            "Arrays desde funciones constructoras:\n",
            "Ceros: [0. 0. 0. 0. 0.]\n",
            "Unos: [[1. 1. 1.]\n",
            " [1. 1. 1.]]\n",
            "Valores constantes: [[7 7]\n",
            " [7 7]]\n",
            "Matriz identidad: [[1. 0. 0.]\n",
            " [0. 1. 0.]\n",
            " [0. 0. 1.]]\n",
            "Valores aleatorios [0,1): [[0.70729678 0.77409516]\n",
            " [0.91560815 0.11803368]]\n",
            "Valores aleatorios normales: [[-1.7919833   0.7999361 ]\n",
            " [-0.52283689 -0.26568055]]\n",
            "Rango secuencial: [0 2 4 6 8]\n",
            "Rango espaciado uniformemente: [0.   0.25 0.5  0.75 1.  ]\n"
          ]
        }
      ]
    },
    {
      "cell_type": "code",
      "source": [
        "#Atributos y propiedades de Arrays\n",
        "# Crear un array de muestra\n",
        "muestra = np.random.randint(0, 100, (3, 4, 5))\n",
        "\n",
        "# Explorar atributos\n",
        "print(\"Forma (dimensiones):\", muestra.shape)\n",
        "print(\"Número de dimensiones:\", muestra.ndim)\n",
        "print(\"Tipo de datos:\", muestra.dtype)\n",
        "print(\"Número total de elementos:\", muestra.size)\n",
        "print(\"Tamaño en bytes:\", muestra.nbytes)"
      ],
      "metadata": {
        "colab": {
          "base_uri": "https://localhost:8080/"
        },
        "id": "BbR-MQf2d0r6",
        "outputId": "fc449f7d-70d4-48d5-fb37-80e0fcb53492"
      },
      "execution_count": null,
      "outputs": [
        {
          "output_type": "stream",
          "name": "stdout",
          "text": [
            "Forma (dimensiones): (3, 4, 5)\n",
            "Número de dimensiones: 3\n",
            "Tipo de datos: int64\n",
            "Número total de elementos: 60\n",
            "Tamaño en bytes: 480\n"
          ]
        }
      ]
    },
    {
      "cell_type": "code",
      "source": [
        "print(muestra)"
      ],
      "metadata": {
        "colab": {
          "base_uri": "https://localhost:8080/"
        },
        "id": "iHUNB5yFdtDr",
        "outputId": "ca5f935c-303b-4039-8c0d-18e4c1d0212b"
      },
      "execution_count": null,
      "outputs": [
        {
          "output_type": "stream",
          "name": "stdout",
          "text": [
            "[[[21 40 86 74 94]\n",
            "  [25 72 60 86  1]\n",
            "  [ 4 71 78 88 77]\n",
            "  [ 0  6 45 14 23]]\n",
            "\n",
            " [[61 65 26 55 34]\n",
            "  [46 19 26  8 80]\n",
            "  [ 9 55  9 39 27]\n",
            "  [ 4 94 43 71 95]]\n",
            "\n",
            " [[50 95 67 74 46]\n",
            "  [43 21 61 97 58]\n",
            "  [16 79 56 64 47]\n",
            "  [20 73 62 85 76]]]\n"
          ]
        }
      ]
    },
    {
      "cell_type": "code",
      "source": [
        "#Indexacion y Slicing\n",
        "# Crear array de ejemplo\n",
        "arr_2d = np.array([[1, 2, 3, 4], [5, 6, 7, 8], [9, 10, 11, 12]])\n",
        "print(\"Array original:\")\n",
        "print(arr_2d)\n",
        "\n",
        "# Indexación básica\n",
        "print(\"\\nIndexación básica:\")\n",
        "print(\"Elemento en (0,0):\", arr_2d[0, 0])\n",
        "print(\"Elemento en (2,3):\", arr_2d[2, 3])"
      ],
      "metadata": {
        "colab": {
          "base_uri": "https://localhost:8080/"
        },
        "id": "DNnRSWpzdtBS",
        "outputId": "ad3ac40d-11b2-423a-96f3-9b827e62b003"
      },
      "execution_count": null,
      "outputs": [
        {
          "output_type": "stream",
          "name": "stdout",
          "text": [
            "Array original:\n",
            "[[ 1  2  3  4]\n",
            " [ 5  6  7  8]\n",
            " [ 9 10 11 12]]\n",
            "\n",
            "Indexación básica:\n",
            "Elemento en (0,0): 1\n",
            "Elemento en (2,3): 12\n"
          ]
        }
      ]
    },
    {
      "cell_type": "code",
      "source": [
        "# Slicing básico\n",
        "print(\"\\nSlicing básico:\")\n",
        "print(\"Primera fila:\", arr_2d[0, :])\n",
        "print(\"Primera columna:\", arr_2d[:, 0])\n",
        "print(\"Submatriz 2x2 (esquina superior izquierda):\")\n",
        "print(arr_2d[:2, :2])\n",
        "print(\"Submatriz 2x2 (esquina inferior derecha):\")\n",
        "print(arr_2d[1:, 2:])"
      ],
      "metadata": {
        "colab": {
          "base_uri": "https://localhost:8080/"
        },
        "id": "t8RYf08Qds-y",
        "outputId": "7f2cfc1f-a42d-4596-f51c-ee27a338bc41"
      },
      "execution_count": null,
      "outputs": [
        {
          "output_type": "stream",
          "name": "stdout",
          "text": [
            "\n",
            "Slicing básico:\n",
            "Primera fila: [1 2 3 4]\n",
            "Primera columna: [1 5 9]\n",
            "Submatriz 2x2 (esquina superior izquierda):\n",
            "[[1 2]\n",
            " [5 6]]\n",
            "Submatriz 2x2 (esquina inferior derecha):\n",
            "[[ 7  8]\n",
            " [11 12]]\n"
          ]
        }
      ]
    },
    {
      "cell_type": "code",
      "source": [
        "#Si yo quisiera seleccionar pero no usando los métodos de slicing sino con un #bucle en print(\"Primera fila:\", arr_2d[0, :])"
      ],
      "metadata": {
        "id": "OzvvTwHxds8K"
      },
      "execution_count": null,
      "outputs": []
    },
    {
      "cell_type": "code",
      "source": [
        "primera_fila=[]\n",
        "for j in range(arr_2d.shape[1]):\n",
        "    primera_fila.append(arr_2d[0,j])\n",
        "print(\"Primera fila:\", primera_fila)"
      ],
      "metadata": {
        "colab": {
          "base_uri": "https://localhost:8080/"
        },
        "id": "FPS5A6_Sds5y",
        "outputId": "bf35b9d4-1220-4191-e0c5-18533acfb88e"
      },
      "execution_count": null,
      "outputs": [
        {
          "output_type": "stream",
          "name": "stdout",
          "text": [
            "Primera fila: [np.int64(1), np.int64(2), np.int64(3), np.int64(4)]\n"
          ]
        }
      ]
    },
    {
      "cell_type": "code",
      "source": [
        "# Slicing con saltos\n",
        "print(\"\\nSlicing con saltos:\")\n",
        "print(\"Filas alternas:\", arr_2d[::2, :])\n",
        "print(\"Columnas alternas:\", arr_2d[:, ::2])"
      ],
      "metadata": {
        "colab": {
          "base_uri": "https://localhost:8080/"
        },
        "id": "YQsvBAzVds3c",
        "outputId": "39627875-baac-4a83-f1b7-a9a26fdc97b0"
      },
      "execution_count": null,
      "outputs": [
        {
          "output_type": "stream",
          "name": "stdout",
          "text": [
            "\n",
            "Slicing con saltos:\n",
            "Filas alternas: [[ 1  2  3  4]\n",
            " [ 9 10 11 12]]\n",
            "Columnas alternas: [[ 1  3]\n",
            " [ 5  7]\n",
            " [ 9 11]]\n"
          ]
        }
      ]
    },
    {
      "cell_type": "code",
      "source": [
        "#array[inicio:fin:paso]"
      ],
      "metadata": {
        "id": "NWDTpWUWvwbu"
      },
      "execution_count": null,
      "outputs": []
    },
    {
      "cell_type": "code",
      "source": [
        "# Indexación con arrays de booleanos\n",
        "print(\"\\nIndexación con condiciones booleanas:\")\n",
        "mask = arr_2d > 6\n",
        "print(\"Máscara de elementos > 6:\")\n",
        "print(mask)\n",
        "print(\"Elementos > 6:\", arr_2d[mask])"
      ],
      "metadata": {
        "colab": {
          "base_uri": "https://localhost:8080/"
        },
        "id": "pQsuBBcgds0z",
        "outputId": "ee56c122-7821-4c53-ac1d-fcb411991fe8"
      },
      "execution_count": null,
      "outputs": [
        {
          "output_type": "stream",
          "name": "stdout",
          "text": [
            "\n",
            "Indexación con condiciones booleanas:\n",
            "Máscara de elementos > 6:\n",
            "[[False False False False]\n",
            " [False False  True  True]\n",
            " [ True  True  True  True]]\n",
            "Elementos > 6: [ 7  8  9 10 11 12]\n"
          ]
        }
      ]
    },
    {
      "cell_type": "code",
      "source": [
        "#arr_2d <5\n",
        "#arr_2d % 2==0 numeros pares\n",
        "#(arr_2d >5) & (arr_2d < 10)"
      ],
      "metadata": {
        "id": "_o5npaLVdsx8"
      },
      "execution_count": null,
      "outputs": []
    },
    {
      "cell_type": "code",
      "source": [
        "#Operaciones Vectorizadas y Broadcasting\n",
        "# Vectorización vs. bucles tradicionales\n",
        "def suma_con_bucle(lista1, lista2):\n",
        "    \"\"\"Suma dos listas utilizando bucles.\"\"\"\n",
        "    resultado = []\n",
        "    for i in range(len(lista1)):\n",
        "        resultado.append(lista1[i] + lista2[i])\n",
        "    return resultado\n",
        "\n",
        "# Crear datos de prueba\n",
        "tamano = 1000000\n",
        "lista1 = list(range(tamano))\n",
        "lista2 = list(range(tamano))\n",
        "arr1 = np.array(lista1)\n",
        "arr2 = np.array(lista2)\n",
        "\n",
        "# Medir tiempo con bucles\n",
        "inicio = time.time()\n",
        "resultado_bucle = suma_con_bucle(lista1, lista2)\n",
        "fin = time.time()\n",
        "tiempo_bucle = fin - inicio\n",
        "print(f\"Tiempo con bucles (1000000 elementos): {tiempo_bucle:.6f} segundos\")\n",
        "\n",
        "# Medir tiempo con NumPy\n",
        "inicio = time.time()\n",
        "resultado_numpy = arr1 + arr2  # Todos los elementos\n",
        "fin = time.time()\n",
        "tiempo_numpy = fin - inicio\n",
        "print(f\"Tiempo con NumPy ({tamano} elementos): {tiempo_numpy:.6f} segundos\")"
      ],
      "metadata": {
        "colab": {
          "base_uri": "https://localhost:8080/"
        },
        "id": "ZalmUcVOx-Hr",
        "outputId": "04385337-8994-42b6-b83c-2941753f6159"
      },
      "execution_count": null,
      "outputs": [
        {
          "output_type": "stream",
          "name": "stdout",
          "text": [
            "Tiempo con bucles (1000000 elementos): 0.077610 segundos\n",
            "Tiempo con NumPy (1000000 elementos): 0.004077 segundos\n"
          ]
        }
      ]
    },
    {
      "cell_type": "code",
      "source": [
        "# Operaciones aritméticas básicas\n",
        "a = np.array([1, 2, 3])\n",
        "b = np.array([4, 5, 6])\n",
        "print(\"\\nOperaciones aritméticas básicas:\")\n",
        "print(\"a + b =\", a + b)\n",
        "print(\"a - b =\", a - b)\n",
        "print(\"a * b =\", a * b)  # Multiplicación elemento a elemento\n",
        "print(\"a / b =\", a / b)\n",
        "print(\"a ** 2 =\", a ** 2)  # Exponenciación\n",
        "print(\"a % 2 =\", a % 2)  # Módulo"
      ],
      "metadata": {
        "colab": {
          "base_uri": "https://localhost:8080/"
        },
        "id": "4dNo0cn98qKm",
        "outputId": "4d00238b-c97c-4122-a265-2c2c73f43042"
      },
      "execution_count": null,
      "outputs": [
        {
          "output_type": "stream",
          "name": "stdout",
          "text": [
            "\n",
            "Operaciones aritméticas básicas:\n",
            "a + b = [5 7 9]\n",
            "a - b = [-3 -3 -3]\n",
            "a * b = [ 4 10 18]\n",
            "a / b = [0.25 0.4  0.5 ]\n",
            "a ** 2 = [1 4 9]\n",
            "a % 2 = [1 0 1]\n"
          ]
        }
      ]
    },
    {
      "cell_type": "code",
      "source": [
        "# Funciones universales (ufuncs)\n",
        "print(\"\\nFunciones universales:\")\n",
        "print(\"Seno:\", np.sin(a))\n",
        "print(\"Exponencial:\", np.exp(a))\n",
        "print(\"Logaritmo natural:\", np.log(a))\n",
        "print(\"Suma de todos los elementos:\", np.sum(a))\n",
        "print(\"Valor mínimo:\", np.min(a))\n",
        "print(\"Valor máximo:\", np.max(a))\n",
        "print(\"Media aritmética:\", np.mean(a))"
      ],
      "metadata": {
        "colab": {
          "base_uri": "https://localhost:8080/"
        },
        "id": "g9JNAaKT9dGL",
        "outputId": "fdfca2bb-2870-47aa-d4bb-813e5ad10aba"
      },
      "execution_count": null,
      "outputs": [
        {
          "output_type": "stream",
          "name": "stdout",
          "text": [
            "\n",
            "Funciones universales:\n",
            "Seno: [0.84147098 0.90929743 0.14112001]\n",
            "Exponencial: [ 2.71828183  7.3890561  20.08553692]\n",
            "Logaritmo natural: [0.         0.69314718 1.09861229]\n",
            "Suma de todos los elementos: 6\n",
            "Valor mínimo: 1\n",
            "Valor máximo: 3\n",
            "Media aritmética: 2.0\n"
          ]
        }
      ]
    },
    {
      "cell_type": "code",
      "source": [
        "#Broadcasting\n",
        "# Ejemplo 1: Sumar un escalar a cada elemento\n",
        "arr = np.array([[1, 2, 3], [4, 5, 6]])\n",
        "print(\"Array original:\")\n",
        "print(arr)\n",
        "print(\"\\nSumando 10 a cada elemento:\")\n",
        "print(arr + 10)"
      ],
      "metadata": {
        "colab": {
          "base_uri": "https://localhost:8080/"
        },
        "id": "bwPm5A5T-RN4",
        "outputId": "8f80cc95-32ba-4d17-d35e-912627d283e3"
      },
      "execution_count": null,
      "outputs": [
        {
          "output_type": "stream",
          "name": "stdout",
          "text": [
            "Array original:\n",
            "[[1 2 3]\n",
            " [4 5 6]]\n",
            "\n",
            "Sumando 10 a cada elemento:\n",
            "[[11 12 13]\n",
            " [14 15 16]]\n"
          ]
        }
      ]
    },
    {
      "cell_type": "code",
      "source": [
        "# Ejemplo 2: Sumar un vector a cada fila\n",
        "vector_fila = np.array([10, 20, 30])\n",
        "print(\"\\nSumando un vector a cada fila:\")\n",
        "print(arr + vector_fila)  # El vector se replica para cada fila"
      ],
      "metadata": {
        "colab": {
          "base_uri": "https://localhost:8080/"
        },
        "id": "_Aj68yzr_CyI",
        "outputId": "4223ea4d-6450-49e9-d5e9-d635bd75588c"
      },
      "execution_count": null,
      "outputs": [
        {
          "output_type": "stream",
          "name": "stdout",
          "text": [
            "\n",
            "Sumando un vector a cada fila:\n",
            "[[11 22 33]\n",
            " [14 25 36]]\n"
          ]
        }
      ]
    },
    {
      "cell_type": "code",
      "source": [
        "#Analisis estadístico con Pandas y Numpy\n",
        "# Crear un DataFrame de ejemplo con datos sintéticos\n",
        "np.random.seed(42)\n",
        "n = 1000\n",
        "df = pd.DataFrame({\n",
        "    'edad': np.random.normal(35, 10, n).astype(int),\n",
        "    'salario': np.random.normal(50000, 15000, n),\n",
        "    'experiencia': np.random.normal(10, 5, n),\n",
        "    'satisfaccion': np.random.uniform(1, 10, n),\n",
        "    'departamento': np.random.choice(['Ventas', 'Marketing', 'IT', 'RRHH'], n)\n",
        "})"
      ],
      "metadata": {
        "id": "i9oY5ncF_CvS"
      },
      "execution_count": null,
      "outputs": []
    },
    {
      "cell_type": "code",
      "source": [
        "# Visualización de datos\n",
        "print(\"Primeras filas del DataFrame:\")\n",
        "print(df.head())"
      ],
      "metadata": {
        "colab": {
          "base_uri": "https://localhost:8080/"
        },
        "id": "XVqLrwTc_CsY",
        "outputId": "9b076fff-21fd-49ba-eb36-aec4d775e6d0"
      },
      "execution_count": null,
      "outputs": [
        {
          "output_type": "stream",
          "name": "stdout",
          "text": [
            "Primeras filas del DataFrame:\n",
            "   edad       salario  experiencia  satisfaccion departamento\n",
            "0    39  70990.331549     6.624109      8.368662           IT\n",
            "1    33  63869.505244     9.277407      9.852105    Marketing\n",
            "2    41  50894.455549     6.037900      3.337038       Ventas\n",
            "3    50  40295.948334     8.460192      9.727513       Ventas\n",
            "4    32  60473.349704     0.531927      4.881105         RRHH\n"
          ]
        }
      ]
    },
    {
      "cell_type": "code",
      "source": [
        "#Salario redondeado a dos decimales, la experiencia a tres decimales, y la satisfaccion a un decimal\n",
        "df['salario']=df['salario'].round(2)\n",
        "df['experiencia']=df['experiencia'].round(3)\n",
        "df['satisfaccion']=df['satisfaccion'].round(1)"
      ],
      "metadata": {
        "id": "m2T-H9xtBL46"
      },
      "execution_count": null,
      "outputs": []
    },
    {
      "cell_type": "code",
      "source": [
        "print(df.head())"
      ],
      "metadata": {
        "colab": {
          "base_uri": "https://localhost:8080/"
        },
        "id": "39LhdaAwBL2E",
        "outputId": "20d405b7-4729-4605-8721-38f2fb9a2562"
      },
      "execution_count": null,
      "outputs": [
        {
          "output_type": "stream",
          "name": "stdout",
          "text": [
            "   edad   salario  experiencia  satisfaccion departamento\n",
            "0    39  70990.33        6.624           8.4           IT\n",
            "1    33  63869.51        9.277           9.9    Marketing\n",
            "2    41  50894.46        6.038           3.3       Ventas\n",
            "3    50  40295.95        8.460           9.7       Ventas\n",
            "4    32  60473.35        0.532           4.9         RRHH\n"
          ]
        }
      ]
    },
    {
      "cell_type": "code",
      "source": [
        "# Estadísticas descriptivas básicas\n",
        "print(\"\\nEstadísticas descriptivas:\")\n",
        "print(df.describe())"
      ],
      "metadata": {
        "colab": {
          "base_uri": "https://localhost:8080/"
        },
        "id": "SJWuumfrBLzS",
        "outputId": "6589d0f9-67d6-4ebf-813d-9633286b1618"
      },
      "execution_count": null,
      "outputs": [
        {
          "output_type": "stream",
          "name": "stdout",
          "text": [
            "\n",
            "Estadísticas descriptivas:\n",
            "              edad       salario  experiencia  satisfaccion\n",
            "count  1000.000000   1000.000000  1000.000000   1000.000000\n",
            "mean     34.674000  51062.543590    10.029169      5.414100\n",
            "std       9.797741  14961.815629     4.917272      2.575687\n",
            "min       2.000000   5894.170000    -5.098000      1.000000\n",
            "25%      28.000000  40906.377500     6.759750      3.200000\n",
            "50%      35.000000  50946.160000     9.998500      5.350000\n",
            "75%      41.000000  60933.230000    13.304500      7.600000\n",
            "max      73.000000  97896.610000    29.631000     10.000000\n"
          ]
        }
      ]
    },
    {
      "cell_type": "code",
      "source": [
        "# Estadísticas por grupo\n",
        "print(\"\\nEstadísticas por departamento:\")\n",
        "print(df.groupby('departamento')['salario'].describe())"
      ],
      "metadata": {
        "colab": {
          "base_uri": "https://localhost:8080/"
        },
        "id": "GqZbVXGaBLwi",
        "outputId": "6cd9d058-5d22-4741-ec2f-0a61f4718bc1"
      },
      "execution_count": null,
      "outputs": [
        {
          "output_type": "stream",
          "name": "stdout",
          "text": [
            "\n",
            "Estadísticas por departamento:\n",
            "              count          mean           std      min         25%  \\\n",
            "departamento                                                           \n",
            "IT            222.0  51959.537973  15060.594542  6179.74  42744.8025   \n",
            "Marketing     270.0  51851.253222  15413.521591  6916.07  40854.2750   \n",
            "RRHH          254.0  50054.517756  14812.236924  9451.52  39857.1150   \n",
            "Ventas        254.0  50448.190079  14526.391820  5894.17  41378.5175   \n",
            "\n",
            "                    50%         75%       max  \n",
            "departamento                                   \n",
            "IT            51791.355  62868.6575  84789.94  \n",
            "Marketing     51309.130  61258.0675  97896.61  \n",
            "RRHH          49603.045  59809.9350  97066.23  \n",
            "Ventas        50813.680  58903.6175  89025.25  \n"
          ]
        }
      ]
    },
    {
      "cell_type": "code",
      "source": [
        "# Medidas de tendencia central\n",
        "print(\"\\nMedidas de tendencia central para 'salario':\")\n",
        "print(\"Media:\", df['salario'].mean())\n",
        "print(\"Mediana:\", df['salario'].median())\n",
        "print(\"Moda:\", df['salario'].mode()[0])"
      ],
      "metadata": {
        "colab": {
          "base_uri": "https://localhost:8080/"
        },
        "id": "sR5LbAyrC0CI",
        "outputId": "764a7d68-7b65-4620-801c-a28192259f8e"
      },
      "execution_count": null,
      "outputs": [
        {
          "output_type": "stream",
          "name": "stdout",
          "text": [
            "\n",
            "Medidas de tendencia central para 'salario':\n",
            "Media: 51062.543589999994\n",
            "Mediana: 50946.16\n",
            "Moda: 5894.17\n"
          ]
        }
      ]
    },
    {
      "cell_type": "code",
      "source": [
        "#otras medidas de tendencia central\n",
        "from scipy.stats import trim_mean\n",
        "trim_mean(df['salario'], 0.1)  # recorta 10% de cada extremo\n"
      ],
      "metadata": {
        "colab": {
          "base_uri": "https://localhost:8080/"
        },
        "id": "_m2ZBAm-Cz_v",
        "outputId": "9961a0aa-d9b3-48b9-d570-45fd3cd52ff3"
      },
      "execution_count": null,
      "outputs": [
        {
          "output_type": "execute_result",
          "data": {
            "text/plain": [
              "np.float64(51112.863)"
            ]
          },
          "metadata": {},
          "execution_count": 31
        }
      ]
    },
    {
      "cell_type": "code",
      "source": [
        "from scipy.stats import gmean\n",
        "gmean(df['salario'])\n"
      ],
      "metadata": {
        "colab": {
          "base_uri": "https://localhost:8080/"
        },
        "id": "O6mEAFU6Cz8-",
        "outputId": "e6616732-5e6c-492c-f9cd-78a14bf8ac11"
      },
      "execution_count": null,
      "outputs": [
        {
          "output_type": "execute_result",
          "data": {
            "text/plain": [
              "np.float64(48446.22739389989)"
            ]
          },
          "metadata": {},
          "execution_count": 32
        }
      ]
    },
    {
      "cell_type": "code",
      "source": [
        "from scipy.stats import hmean\n",
        "hmean(df['salario'][df['salario'] > 0])  # evita valores <= 0\n"
      ],
      "metadata": {
        "colab": {
          "base_uri": "https://localhost:8080/"
        },
        "id": "SPePPnbjDqfW",
        "outputId": "c231682d-1776-4a6d-9bd5-33f3f867e1d3"
      },
      "execution_count": null,
      "outputs": [
        {
          "output_type": "execute_result",
          "data": {
            "text/plain": [
              "np.float64(44767.12326298403)"
            ]
          },
          "metadata": {},
          "execution_count": 33
        }
      ]
    },
    {
      "cell_type": "code",
      "source": [
        "df['salario'].quantile(0.25)  # cuartil 1\n",
        "df['salario'].quantile(0.75)  # cuartil 3\n"
      ],
      "metadata": {
        "colab": {
          "base_uri": "https://localhost:8080/"
        },
        "id": "yu13wnNsE7P-",
        "outputId": "ab1c9a8b-8e9d-47ca-d3c1-abb53682d525"
      },
      "execution_count": null,
      "outputs": [
        {
          "output_type": "execute_result",
          "data": {
            "text/plain": [
              "np.float64(60933.23)"
            ]
          },
          "metadata": {},
          "execution_count": 34
        }
      ]
    },
    {
      "cell_type": "code",
      "source": [
        "#Medidas de variabilidad\n",
        "# Medidas de dispersión\n",
        "print(\"\\nMedidas de dispersión para 'salario':\")\n",
        "print(\"Rango:\", df['salario'].max() - df['salario'].min())\n",
        "print(\"Varianza:\", df['salario'].var())\n",
        "print(\"Desviación estándar:\", df['salario'].std())\n",
        "print(\"Coeficiente de variación:\", df['salario'].std() / df['salario'].mean())"
      ],
      "metadata": {
        "colab": {
          "base_uri": "https://localhost:8080/"
        },
        "id": "FUhEAD3-FQdD",
        "outputId": "705fb94e-2d54-479b-a952-84a9898bb10d"
      },
      "execution_count": null,
      "outputs": [
        {
          "output_type": "stream",
          "name": "stdout",
          "text": [
            "\n",
            "Medidas de dispersión para 'salario':\n",
            "Rango: 92002.44\n",
            "Varianza: 223855926.92475948\n",
            "Desviación estándar: 14961.815629286422\n",
            "Coeficiente de variación: 0.2930096030746208\n"
          ]
        }
      ]
    },
    {
      "cell_type": "code",
      "source": [
        "#Otras medidas de variabilidad\n",
        "iqr = df['salario'].quantile(0.75) - df['salario'].quantile(0.25)\n",
        "print(iqr)\n"
      ],
      "metadata": {
        "colab": {
          "base_uri": "https://localhost:8080/"
        },
        "id": "SoJGMiFXFh04",
        "outputId": "665da448-9f6f-452b-95e3-185d647be7c7"
      },
      "execution_count": null,
      "outputs": [
        {
          "output_type": "stream",
          "name": "stdout",
          "text": [
            "20026.8525\n"
          ]
        }
      ]
    },
    {
      "cell_type": "code",
      "source": [
        "#Desviación absoluta media (MAD)\n",
        "mad = df['salario'].mad()\n",
        "print(mad)\n",
        "#Seguramente porque no existe más en la nueva version de pandas"
      ],
      "metadata": {
        "colab": {
          "base_uri": "https://localhost:8080/",
          "height": 297
        },
        "id": "hLRJ4pTAFrTc",
        "outputId": "71cbf322-e257-47fa-d230-c9053754c938"
      },
      "execution_count": null,
      "outputs": [
        {
          "output_type": "error",
          "ename": "AttributeError",
          "evalue": "'Series' object has no attribute 'mad'",
          "traceback": [
            "\u001b[0;31m---------------------------------------------------------------------------\u001b[0m",
            "\u001b[0;31mAttributeError\u001b[0m                            Traceback (most recent call last)",
            "\u001b[0;32m<ipython-input-38-0211ee6b1a07>\u001b[0m in \u001b[0;36m<cell line: 0>\u001b[0;34m()\u001b[0m\n\u001b[1;32m      1\u001b[0m \u001b[0;31m#Desviación absoluta media (MAD)\u001b[0m\u001b[0;34m\u001b[0m\u001b[0;34m\u001b[0m\u001b[0m\n\u001b[0;32m----> 2\u001b[0;31m \u001b[0mmad\u001b[0m \u001b[0;34m=\u001b[0m \u001b[0mdf\u001b[0m\u001b[0;34m[\u001b[0m\u001b[0;34m'salario'\u001b[0m\u001b[0;34m]\u001b[0m\u001b[0;34m.\u001b[0m\u001b[0mmad\u001b[0m\u001b[0;34m(\u001b[0m\u001b[0;34m)\u001b[0m\u001b[0;34m\u001b[0m\u001b[0;34m\u001b[0m\u001b[0m\n\u001b[0m\u001b[1;32m      3\u001b[0m \u001b[0mprint\u001b[0m\u001b[0;34m(\u001b[0m\u001b[0mmad\u001b[0m\u001b[0;34m)\u001b[0m\u001b[0;34m\u001b[0m\u001b[0;34m\u001b[0m\u001b[0m\n",
            "\u001b[0;32m/usr/local/lib/python3.11/dist-packages/pandas/core/generic.py\u001b[0m in \u001b[0;36m__getattr__\u001b[0;34m(self, name)\u001b[0m\n\u001b[1;32m   6297\u001b[0m         ):\n\u001b[1;32m   6298\u001b[0m             \u001b[0;32mreturn\u001b[0m \u001b[0mself\u001b[0m\u001b[0;34m[\u001b[0m\u001b[0mname\u001b[0m\u001b[0;34m]\u001b[0m\u001b[0;34m\u001b[0m\u001b[0;34m\u001b[0m\u001b[0m\n\u001b[0;32m-> 6299\u001b[0;31m         \u001b[0;32mreturn\u001b[0m \u001b[0mobject\u001b[0m\u001b[0;34m.\u001b[0m\u001b[0m__getattribute__\u001b[0m\u001b[0;34m(\u001b[0m\u001b[0mself\u001b[0m\u001b[0;34m,\u001b[0m \u001b[0mname\u001b[0m\u001b[0;34m)\u001b[0m\u001b[0;34m\u001b[0m\u001b[0;34m\u001b[0m\u001b[0m\n\u001b[0m\u001b[1;32m   6300\u001b[0m \u001b[0;34m\u001b[0m\u001b[0m\n\u001b[1;32m   6301\u001b[0m     \u001b[0;34m@\u001b[0m\u001b[0mfinal\u001b[0m\u001b[0;34m\u001b[0m\u001b[0;34m\u001b[0m\u001b[0m\n",
            "\u001b[0;31mAttributeError\u001b[0m: 'Series' object has no attribute 'mad'"
          ]
        }
      ]
    },
    {
      "cell_type": "code",
      "source": [
        "mad = (df['salario'] - df['salario'].mean()).abs().mean()\n",
        "print(\"Desviación absoluta media (MAD):\", mad)\n"
      ],
      "metadata": {
        "colab": {
          "base_uri": "https://localhost:8080/"
        },
        "id": "qxqAkKreFrQb",
        "outputId": "4f360430-c7b6-4d85-82ec-98901c465eb7"
      },
      "execution_count": null,
      "outputs": [
        {
          "output_type": "stream",
          "name": "stdout",
          "text": [
            "Desviación absoluta media (MAD): 11852.56305872\n"
          ]
        }
      ]
    },
    {
      "cell_type": "code",
      "source": [
        "#medidas de forma\n",
        "from scipy.stats import skew\n",
        "asimetria = skew(df['salario'])\n"
      ],
      "metadata": {
        "id": "pmDZTbreFrMT"
      },
      "execution_count": null,
      "outputs": []
    },
    {
      "cell_type": "code",
      "source": [
        "print(asimetria)"
      ],
      "metadata": {
        "colab": {
          "base_uri": "https://localhost:8080/"
        },
        "id": "rnjGrbKpG01W",
        "outputId": "e687cf5b-9796-4fe2-83ed-3c2db1584c4d"
      },
      "execution_count": null,
      "outputs": [
        {
          "output_type": "stream",
          "name": "stdout",
          "text": [
            "-0.04932176568385262\n"
          ]
        }
      ]
    },
    {
      "cell_type": "code",
      "source": [
        "from scipy.stats import kurtosis\n",
        "curtosis = kurtosis(df['salario'])\n",
        "print(curtosis)\n"
      ],
      "metadata": {
        "colab": {
          "base_uri": "https://localhost:8080/"
        },
        "id": "Xw1eVRltG33G",
        "outputId": "f0d2537e-41da-4100-cf0e-e885b2d04044"
      },
      "execution_count": null,
      "outputs": [
        {
          "output_type": "stream",
          "name": "stdout",
          "text": [
            "0.052117522609953504\n"
          ]
        }
      ]
    },
    {
      "cell_type": "code",
      "source": [
        "curtosis_estandar = kurtosis(df['salario'], fisher=False)\n",
        "print(curtosis_estandar)"
      ],
      "metadata": {
        "colab": {
          "base_uri": "https://localhost:8080/"
        },
        "id": "0wkGHBwyHSGE",
        "outputId": "be84b754-e64d-430a-fb16-fd31f4383667"
      },
      "execution_count": null,
      "outputs": [
        {
          "output_type": "stream",
          "name": "stdout",
          "text": [
            "3.0521175226099535\n"
          ]
        }
      ]
    },
    {
      "cell_type": "code",
      "source": [
        "pearson_skew = 3 * (df['salario'].mean() - df['salario'].median()) / df['salario'].std()\n"
      ],
      "metadata": {
        "id": "lddQ1I09HYQT"
      },
      "execution_count": null,
      "outputs": []
    },
    {
      "cell_type": "code",
      "source": [
        "from scipy.stats import moment\n",
        "moment_3 = moment(df['salario'], moment=3)  # Asimetría\n",
        "moment_4 = moment(df['salario'], moment=4)  # Curtosis\n"
      ],
      "metadata": {
        "id": "HRPI_MMCHhCt"
      },
      "execution_count": null,
      "outputs": []
    },
    {
      "cell_type": "code",
      "source": [
        "corr_matrix = df.select_dtypes(include=[np.number]).corr()\n",
        "print(\"Matriz de correlación:\")\n",
        "print(corr_matrix)\n"
      ],
      "metadata": {
        "colab": {
          "base_uri": "https://localhost:8080/"
        },
        "id": "TcxOEmTJHzHy",
        "outputId": "952cddbd-d221-43d5-9617-00b7785d0da8"
      },
      "execution_count": null,
      "outputs": [
        {
          "output_type": "stream",
          "name": "stdout",
          "text": [
            "Matriz de correlación:\n",
            "                  edad   salario  experiencia  satisfaccion\n",
            "edad          1.000000 -0.041490     0.021923      0.019024\n",
            "salario      -0.041490  1.000000    -0.011202      0.034373\n",
            "experiencia   0.021923 -0.011202     1.000000      0.015176\n",
            "satisfaccion  0.019024  0.034373     0.015176      1.000000\n"
          ]
        }
      ]
    },
    {
      "cell_type": "code",
      "source": [
        "print(\"Coeficiente de Pearson:\", df['salario'].corr(df['experiencia']))"
      ],
      "metadata": {
        "colab": {
          "base_uri": "https://localhost:8080/"
        },
        "id": "VC9Ezv28IaF_",
        "outputId": "c7f7b31c-e24e-4f81-fbd6-1c128ee11112"
      },
      "execution_count": null,
      "outputs": [
        {
          "output_type": "stream",
          "name": "stdout",
          "text": [
            "Coeficiente de Pearson: -0.011201770588713557\n"
          ]
        }
      ]
    },
    {
      "cell_type": "code",
      "source": [
        "print(\"Coeficiente de Spearman (rangos):\",\n",
        "      df['salario'].corr(df['experiencia'], method='spearman'))"
      ],
      "metadata": {
        "id": "v4lsVtX5ImQV",
        "outputId": "133714ed-f6ec-4efb-ed73-c590c889d53d",
        "colab": {
          "base_uri": "https://localhost:8080/"
        }
      },
      "execution_count": null,
      "outputs": [
        {
          "output_type": "stream",
          "name": "stdout",
          "text": [
            "Coeficiente de Spearman (rangos): -0.00919303596525102\n"
          ]
        }
      ]
    }
  ]
}