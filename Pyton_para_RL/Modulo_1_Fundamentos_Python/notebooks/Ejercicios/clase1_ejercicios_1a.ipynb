{
  "nbformat": 4,
  "nbformat_minor": 0,
  "metadata": {
    "colab": {
      "provenance": []
    },
    "kernelspec": {
      "name": "python3",
      "display_name": "Python 3"
    },
    "language_info": {
      "name": "python"
    }
  },
  "cells": [
    {
      "cell_type": "markdown",
      "source": [
        "# 📌 Curso: **Introducción a Python para Aprendizaje por Refuerzo**\n",
        "### 🖥️ Clase 1: Fundamentos de Python  \n",
        "👨‍🏫 **Docente:** Dr. Darío Ezequiel Díaz  \n",
        "\n",
        "---\n",
        "\n",
        "## ✏️ **Ejercicios de Variables y Tipos de Datos en Python**  \n",
        "\n",
        "En esta sección resolverás ejercicios básicos sobre **variables y tipos de datos en Python**.  \n",
        "Los ejercicios están diseñados para que practiques la sintaxis básica y la asignación de variables.  \n",
        "\n",
        "### 🔹 **Instrucciones:**  \n",
        "✅ Lee atentamente cada consigna.  \n",
        "✅ Completa los espacios vacíos donde se indica con **`# COMPLETAR AQUÍ`**.  \n",
        "✅ Ejecuta cada celda de código para verificar que tu respuesta sea correcta.  \n",
        "\n",
        "¡Vamos a programar! 🚀🔥  \n",
        "\n",
        "---\n",
        "\n",
        "## 📝 **EJERCICIO 1: Declaración de variables**  \n",
        "📌 **Consigna:** Declara variables para almacenar los siguientes datos:  \n",
        "- Nombre  \n",
        "- Apellido  \n",
        "- Nombre completo (a partir de las variables anteriores)  \n",
        "- País  \n",
        "- Ciudad  \n",
        "- Edad  \n",
        "- Año actual  \n",
        "- Estado civil (casado o no)  \n",
        "- Una variable booleana cualquiera (ejemplo: si está lloviendo)  \n",
        "- Otra variable booleana cualquiera (ejemplo: si la luz está encendida)  \n",
        "\n",
        "---\n",
        "\n",
        "## 📝 **EJERCICIO 2: Declaración de múltiples variables en una sola línea**  \n",
        "📌 **Consigna:** Declara las variables `nombre`, `apellido`, `pais` y `edad` en una única línea.  \n",
        "\n",
        "---\n",
        "\n",
        "## 📝 **EJERCICIO 3: Explorar los tipos de datos**  \n",
        "📌 **Consigna:** Usa la función `type()` para imprimir el tipo de cada variable declarada antes.  \n",
        "\n",
        "---\n",
        "\n",
        "## 📝 **EJERCICIO 4: Conversión de tipos de datos**  \n",
        "📌 **Consigna:** Convierte `edad` a un `string`, `año` a un `float` y `estado_civil` a un `string`.  \n",
        "Luego imprime los nuevos valores y sus tipos.  \n",
        "\n",
        "---\n",
        "\n",
        "## 📝 **EJERCICIO 5: Pregunta abierta**  \n",
        "📌 **Consigna:**  \n",
        "Explica brevemente en una **celda de texto en Markdown**:  \n",
        "➡️ **¿Por qué Python permite cambiar el tipo de una variable de manera dinámica?**  \n",
        "\n",
        "---\n",
        "\n",
        "## 📝 **EJERCICIO 6: Verificación de tipos de datos**  \n",
        "📌 **Consigna:**  \n",
        "Usa la función `type()` para verificar el tipo de todas las variables que declaraste anteriormente.  \n",
        "\n",
        "---\n",
        "\n",
        "## 📝 **EJERCICIO 7: Longitud de cadenas**  \n",
        "📌 **Consigna:**  \n",
        "1️⃣ Usa la función `len()` para obtener la longitud de tu nombre (`nombre`).  \n",
        "2️⃣ Compara la longitud de tu nombre y tu apellido (`apellido`).  \n",
        "\n",
        "---\n",
        "\n",
        "## 📝 **EJERCICIO 8: Operaciones matemáticas básicas**  \n",
        "📌 **Consigna:**  \n",
        "- Declara `num_uno = 5` y `num_dos = 4`.  \n",
        "- Realiza las siguientes operaciones y almacena los resultados en variables:  \n",
        "  - **Suma** (`total = num_uno + num_dos`)  \n",
        "  - **Resta** (`diferencia = num_uno - num_dos`)  \n",
        "  - **Multiplicación** (`producto = num_uno * num_dos`)  \n",
        "  - **División** (`division = num_uno / num_dos`)  \n",
        "  - **Módulo (resto de la división)** (`resto = num_dos % num_uno`)  \n",
        "  - **Potencia** (`potencia = num_uno ** num_dos`)  \n",
        "  - **División entera** (`division_entera = num_uno // num_dos`)  \n",
        "\n",
        "---\n",
        "\n",
        "## 📝 **EJERCICIO 9: Cálculo del área y circunferencia de un círculo**  \n",
        "📌 **Consigna:**  \n",
        "- La radio de un círculo es `30 metros`.  \n",
        "- Calcula el **área** del círculo usando la fórmula:  \n",
        "\n",
        "$$\n",
        "\\text{Área} = \\pi \\times \\text{radio}^2\n",
        "$$\n",
        "\n",
        "- Calcula la **circunferencia** usando la fórmula:  \n",
        "\n",
        "$$\n",
        "\\text{Circunferencia} = 2 \\times \\pi \\times \\text{radio}\n",
        "$$\n",
        "\n",
        "- Usa `math.pi` para obtener el valor de **π**.  \n",
        "\n",
        "---\n",
        "\n",
        "\n",
        "\n",
        "## 📝 **EJERCICIO 10: Área de un círculo con radio ingresado por el usuario**  \n",
        "📌 **Consigna:**  \n",
        "- Pide al usuario que ingrese el radio de un círculo usando `input()`.  \n",
        "- Calcula el área usando la fórmula del ejercicio anterior.  \n",
        "\n",
        "---\n",
        "\n",
        "## 📝 **EJERCICIO 11: Capturar datos desde el usuario**  \n",
        "📌 **Consigna:**  \n",
        "Usa la función `input()` para pedir los siguientes datos al usuario:  \n",
        "- Nombre  \n",
        "- Apellido  \n",
        "- País  \n",
        "- Edad  \n",
        "Guarda cada valor en la variable correspondiente y muéstralo en pantalla.  \n",
        "\n",
        "---\n",
        "\n",
        "## 📝 **EJERCICIO 12: Palabras reservadas en Python**  \n",
        "📌 **Consigna:**  \n",
        "Ejecuta el siguiente comando en Python para ver la lista de palabras reservadas del lenguaje:  \n",
        "\n",
        "```python\n",
        "help('keywords')\n"
      ],
      "metadata": {
        "id": "8F_F08FRkC7_"
      }
    },
    {
      "cell_type": "markdown",
      "source": [
        "# 📝**RESPUESTAS**\n",
        "\n",
        "\n"
      ],
      "metadata": {
        "id": "CYvsaAGskwXm"
      }
    },
    {
      "cell_type": "code",
      "source": [
        "# EJERCICIO 1\n",
        "# 🔹 COMPLETAR AQUÍ 🔹\n",
        "# ---------------------------\n",
        "nombre =\n",
        "apellido =\n",
        "nombre_completo =\n",
        "pais =\n",
        "ciudad =\n",
        "edad =\n",
        "año =\n",
        "estado_civil =\n",
        "esta_lloviendo =\n",
        "luz_encendida =\n",
        "\n",
        "# Mostramos los valores de las variables\n",
        "print(\"Nombre:\", nombre)\n",
        "print(\"Apellido:\", apellido)\n",
        "print(\"Nombre completo:\", nombre_completo)\n",
        "print(\"País:\", pais)\n",
        "print(\"Ciudad:\", ciudad)\n",
        "print(\"Edad:\", edad)\n",
        "print(\"Año actual:\", año)\n",
        "print(\"¿Está casado?:\", estado_civil)\n",
        "print(\"¿Está lloviendo?:\", esta_lloviendo)\n",
        "print(\"¿La luz está encendida?:\", luz_encendida)\n"
      ],
      "metadata": {
        "id": "qqU5rhmEkG7X"
      },
      "execution_count": null,
      "outputs": []
    },
    {
      "cell_type": "code",
      "source": [
        "# EJERCICIO 2\n",
        "# 🔹 COMPLETAR AQUÍ 🔹\n",
        "# ---------------------------\n",
        "nombre, apellido, pais, edad =\n",
        "\n",
        "# Mostramos los valores\n",
        "print(\"Nombre:\", nombre)\n",
        "print(\"Apellido:\", apellido)\n",
        "print(\"País:\", pais)\n",
        "print(\"Edad:\", edad)\n"
      ],
      "metadata": {
        "id": "a-eWvQL_lSdn"
      },
      "execution_count": null,
      "outputs": []
    },
    {
      "cell_type": "code",
      "source": [
        "# EJERCICIO 3\n",
        "# 🔹 COMPLETAR AQUÍ 🔹\n",
        "# ---------------------------\n",
        "print(\"El tipo de nombre es:\", type(nombre))\n",
        "print(\"El tipo de edad es:\", type(edad))\n",
        "print(\"El tipo de estado_civil es:\", type(estado_civil))\n",
        "print(\"El tipo de nombre_completo es:\", type(nombre_completo))\n"
      ],
      "metadata": {
        "id": "uOcOGvL-lW7u"
      },
      "execution_count": null,
      "outputs": []
    },
    {
      "cell_type": "code",
      "source": [
        "# EJERCICIO 4\n",
        "# 🔹 COMPLETAR AQUÍ 🔹\n",
        "# ---------------------------\n",
        "edad_str = str(edad)\n",
        "año_float = float(año)\n",
        "estado_civil_str = str(estado_civil)\n",
        "\n",
        "print(\"Edad como string:\", edad_str, \"-> Tipo:\", type(edad_str))\n",
        "print(\"Año como float:\", año_float, \"-> Tipo:\", type(año_float))\n",
        "print(\"Estado civil como string:\", estado_civil_str, \"-> Tipo:\", type(estado_civil_str))\n"
      ],
      "metadata": {
        "id": "tjWHQ9pLlbfu"
      },
      "execution_count": null,
      "outputs": []
    },
    {
      "cell_type": "markdown",
      "source": [
        "# 🔹 EJERCICIO 5. RESPUESTA 🔹\n",
        "Python es ..........\n",
        "\n",
        "Ejemplo:  \n",
        "```python\n",
        "x = 10  # Es un entero\n",
        "x = \"Hola\"  # Ahora es un string\n"
      ],
      "metadata": {
        "id": "gjvNiB3Alltm"
      }
    },
    {
      "cell_type": "code",
      "source": [
        "### **🔹 EJERCICIO 6: Verificación de tipos de datos**\n",
        "# 🔹 COMPLETAR AQUÍ 🔹\n",
        "# ---------------------------\n",
        "print(\"El tipo de nombre es:\", type(nombre))\n",
        "print(\"El tipo de apellido es:\", type(apellido))\n",
        "print(\"El tipo de edad es:\", type(edad))\n",
        "print(\"El tipo de año es:\", type(año))\n",
        "print(\"El tipo de estado_civil es:\", type(estado_civil))\n",
        "print(\"El tipo de nombre_completo es:\", type(nombre_completo))\n"
      ],
      "metadata": {
        "id": "kireKgK_li_e"
      },
      "execution_count": null,
      "outputs": []
    },
    {
      "cell_type": "code",
      "source": [
        "# EJERCICIO 7\n",
        "# 🔹 COMPLETAR AQUÍ 🔹\n",
        "# ---------------------------\n",
        "longitud_nombre = len(nombre)\n",
        "longitud_apellido = len(apellido)\n",
        "\n",
        "print(\"Longitud de nombre:\", longitud_nombre)\n",
        "print(\"Longitud de apellido:\", longitud_apellido)\n",
        "\n",
        "# Comparación de longitudes\n",
        "if longitud_nombre > longitud_apellido:\n",
        "    print(\"Tu nombre es más largo que tu apellido.\")\n",
        "elif longitud_nombre < longitud_apellido:\n",
        "    print(\"Tu apellido es más largo que tu nombre.\")\n",
        "else:\n",
        "    print(\"Tu nombre y apellido tienen la misma cantidad de caracteres.\")\n"
      ],
      "metadata": {
        "id": "10-bjlTili9N"
      },
      "execution_count": null,
      "outputs": []
    },
    {
      "cell_type": "code",
      "source": [
        "# EJERCICIO 8\n",
        "# 🔹 COMPLETAR AQUÍ 🔹\n",
        "# ---------------------------\n",
        "num_uno = 5\n",
        "num_dos = 4\n",
        "\n",
        "total = num_uno + num_dos\n",
        "diferencia = num_uno - num_dos\n",
        "producto = num_uno * num_dos\n",
        "division = num_uno / num_dos\n",
        "resto = num_dos % num_uno\n",
        "potencia = num_uno ** num_dos\n",
        "division_entera = num_uno // num_dos\n",
        "\n",
        "# Mostramos los resultados\n",
        "print(\"Suma:\", total)\n",
        "print(\"Resta:\", diferencia)\n",
        "print(\"Multiplicación:\", producto)\n",
        "print(\"División:\", division)\n",
        "print(\"Módulo:\", resto)\n",
        "print(\"Potencia:\", potencia)\n",
        "print(\"División entera:\", division_entera)\n"
      ],
      "metadata": {
        "id": "2kBydMlvli59"
      },
      "execution_count": null,
      "outputs": []
    },
    {
      "cell_type": "code",
      "source": [
        "# EJERCICIO 9\n",
        "# 🔹 COMPLETAR AQUÍ 🔹\n",
        "# ---------------------------\n",
        "import math\n",
        "\n",
        "radio = 30\n",
        "area_del_circulo = math.pi * (radio ** 2)\n",
        "circunferencia_del_circulo = 2 * math.pi * radio\n",
        "\n",
        "print(\"Área del círculo:\", area_del_circulo)\n",
        "print(\"Circunferencia del círculo:\", circunferencia_del_circulo)\n"
      ],
      "metadata": {
        "id": "xGJ5YQtQli3H"
      },
      "execution_count": null,
      "outputs": []
    },
    {
      "cell_type": "code",
      "source": [
        "# EJERCICIO 10\n",
        "# 🔹 COMPLETAR AQUÍ 🔹\n",
        "# ---------------------------\n",
        "radio_usuario = float(input(\"Ingresa el radio del círculo: \"))\n",
        "area_usuario = math.pi * (radio_usuario ** 2)\n",
        "\n",
        "print(\"Área del círculo con radio\", radio_usuario, \":\", area_usuario)\n"
      ],
      "metadata": {
        "id": "t8f-ZG4Cli0v"
      },
      "execution_count": null,
      "outputs": []
    },
    {
      "cell_type": "code",
      "source": [
        "# EJERCICIO 11\n",
        "# 🔹 COMPLETAR AQUÍ 🔹\n",
        "# ---------------------------\n",
        "nombre = input(\"Ingresa tu nombre: \")\n",
        "apellido = input(\"Ingresa tu apellido: \")\n",
        "pais = input(\"Ingresa tu país: \")\n",
        "edad = int(input(\"Ingresa tu edad: \"))  # Convertimos la entrada a entero\n",
        "\n",
        "print(\"\\n📌 Datos ingresados:\")\n",
        "print(\"Nombre:\", nombre)\n",
        "print(\"Apellido:\", apellido)\n",
        "print(\"País:\", pais)\n",
        "print(\"Edad:\", edad)\n"
      ],
      "metadata": {
        "id": "raP2NOI6liyw"
      },
      "execution_count": null,
      "outputs": []
    },
    {
      "cell_type": "code",
      "source": [
        "# EJERCICIO 12\n",
        "# 🔹 COMPLETAR AQUÍ 🔹\n",
        "# ---------------------------\n",
        "help('keywords')\n"
      ],
      "metadata": {
        "id": "QfEBnzIIliwN"
      },
      "execution_count": null,
      "outputs": []
    }
  ]
}