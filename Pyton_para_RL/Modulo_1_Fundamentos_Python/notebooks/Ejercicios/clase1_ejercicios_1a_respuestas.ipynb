{
  "nbformat": 4,
  "nbformat_minor": 0,
  "metadata": {
    "colab": {
      "provenance": []
    },
    "kernelspec": {
      "name": "python3",
      "display_name": "Python 3"
    },
    "language_info": {
      "name": "python"
    }
  },
  "cells": [
    {
      "cell_type": "markdown",
      "source": [
        "# 📌 Curso: **Introducción a Python para Aprendizaje por Refuerzo**\n",
        "### 🖥️ **Clase 1: Fundamentos de Python**  \n",
        "👨‍🏫 **Docente:** Dr. Darío Ezequiel Díaz  \n",
        "\n",
        "---\n",
        "\n",
        "## ✅ **Respuestas a los ejercicios de Variables y Tipos de Datos en Python**  \n",
        "Este cuaderno contiene las respuestas completas a los ejercicios de la Clase 1a.  \n",
        "Las soluciones aquí presentadas pueden servir como referencia para los estudiantes.  \n",
        "\n",
        "---\n"
      ],
      "metadata": {
        "id": "zXv4RS-QnCwf"
      }
    },
    {
      "cell_type": "code",
      "source": [
        "# EJERCICIO 1\n",
        "# Declaración de variables con valores de ejemplo\n",
        "nombre = \"Juan\"\n",
        "apellido = \"Pérez\"\n",
        "nombre_completo = nombre + \" \" + apellido\n",
        "pais = \"Argentina\"\n",
        "ciudad = \"Buenos Aires\"\n",
        "edad = 30\n",
        "año = 2025\n",
        "estado_civil = False\n",
        "esta_lloviendo = True\n",
        "luz_encendida = False\n",
        "\n",
        "# Mostramos los valores de las variables\n",
        "print(\"Nombre:\", nombre)\n",
        "print(\"Apellido:\", apellido)\n",
        "print(\"Nombre completo:\", nombre_completo)\n",
        "print(\"País:\", pais)\n",
        "print(\"Ciudad:\", ciudad)\n",
        "print(\"Edad:\", edad)\n",
        "print(\"Año actual:\", año)\n",
        "print(\"¿Está casado?:\", estado_civil)\n",
        "print(\"¿Está lloviendo?:\", esta_lloviendo)\n",
        "print(\"¿La luz está encendida?:\", luz_encendida)\n"
      ],
      "metadata": {
        "colab": {
          "base_uri": "https://localhost:8080/"
        },
        "id": "G2hKH9uvnDLV",
        "outputId": "6d76a0e5-23ce-464f-c14f-db03eb86fc1d"
      },
      "execution_count": 1,
      "outputs": [
        {
          "output_type": "stream",
          "name": "stdout",
          "text": [
            "Nombre: Juan\n",
            "Apellido: Pérez\n",
            "Nombre completo: Juan Pérez\n",
            "País: Argentina\n",
            "Ciudad: Buenos Aires\n",
            "Edad: 30\n",
            "Año actual: 2025\n",
            "¿Está casado?: False\n",
            "¿Está lloviendo?: True\n",
            "¿La luz está encendida?: False\n"
          ]
        }
      ]
    },
    {
      "cell_type": "code",
      "source": [
        "# EJERCICIO 2\n",
        "# Declaración en una sola línea\n",
        "nombre, apellido, pais, edad = \"Juan\", \"Pérez\", \"Argentina\", 30\n",
        "\n",
        "# Mostramos los valores\n",
        "print(\"Nombre:\", nombre)\n",
        "print(\"Apellido:\", apellido)\n",
        "print(\"País:\", pais)\n",
        "print(\"Edad:\", edad)\n"
      ],
      "metadata": {
        "colab": {
          "base_uri": "https://localhost:8080/"
        },
        "id": "IAQ8gARwnVm9",
        "outputId": "1cf79fae-2ce6-4646-9384-e07296ea1b62"
      },
      "execution_count": 3,
      "outputs": [
        {
          "output_type": "stream",
          "name": "stdout",
          "text": [
            "Nombre: Juan\n",
            "Apellido: Pérez\n",
            "País: Argentina\n",
            "Edad: 30\n"
          ]
        }
      ]
    },
    {
      "cell_type": "code",
      "source": [
        "# EJERCICIO 3\n",
        "print(\"El tipo de nombre es:\", type(nombre))\n",
        "print(\"El tipo de edad es:\", type(edad))\n",
        "print(\"El tipo de estado_civil es:\", type(estado_civil))\n",
        "print(\"El tipo de nombre_completo es:\", type(nombre_completo))\n"
      ],
      "metadata": {
        "colab": {
          "base_uri": "https://localhost:8080/"
        },
        "id": "znWiHg1anVkl",
        "outputId": "fbf66c61-861f-4eeb-bc90-61efdf29826b"
      },
      "execution_count": 4,
      "outputs": [
        {
          "output_type": "stream",
          "name": "stdout",
          "text": [
            "El tipo de nombre es: <class 'str'>\n",
            "El tipo de edad es: <class 'int'>\n",
            "El tipo de estado_civil es: <class 'bool'>\n",
            "El tipo de nombre_completo es: <class 'str'>\n"
          ]
        }
      ]
    },
    {
      "cell_type": "code",
      "source": [
        "# EJERCICIO 4\n",
        "edad_str = str(edad)\n",
        "año_float = float(año)\n",
        "estado_civil_str = str(estado_civil)\n",
        "\n",
        "print(\"Edad como string:\", edad_str, \"-> Tipo:\", type(edad_str))\n",
        "print(\"Año como float:\", año_float, \"-> Tipo:\", type(año_float))\n",
        "print(\"Estado civil como string:\", estado_civil_str, \"-> Tipo:\", type(estado_civil_str))\n"
      ],
      "metadata": {
        "colab": {
          "base_uri": "https://localhost:8080/"
        },
        "id": "fiLiV78jnViN",
        "outputId": "4db84734-85c7-4b2c-c1f9-f7321d79f066"
      },
      "execution_count": 6,
      "outputs": [
        {
          "output_type": "stream",
          "name": "stdout",
          "text": [
            "Edad como string: 30 -> Tipo: <class 'str'>\n",
            "Año como float: 2025.0 -> Tipo: <class 'float'>\n",
            "Estado civil como string: False -> Tipo: <class 'str'>\n"
          ]
        }
      ]
    },
    {
      "cell_type": "markdown",
      "source": [
        "# 🔹 RESPUESTA 🔹\n",
        "Python es un lenguaje de tipado dinámico, lo que significa que el tipo de una variable se determina en tiempo de ejecución.\n",
        "Esto permite cambiar el tipo de una variable sin necesidad de declararlo explícitamente.  \n",
        "\n",
        "Ejemplo:  \n",
        "```python\n",
        "x = 10  # Es un entero\n",
        "x = \"Hola\"  # Ahora es un string\n"
      ],
      "metadata": {
        "id": "Jh-IsZ8hn5S-"
      }
    },
    {
      "cell_type": "code",
      "source": [
        "### **🔹 EJERCICIO 6: Verificación de tipos de datos**\n",
        "\n",
        "print(\"El tipo de nombre es:\", type(nombre))\n",
        "print(\"El tipo de apellido es:\", type(apellido))\n",
        "print(\"El tipo de edad es:\", type(edad))\n",
        "print(\"El tipo de año es:\", type(año))\n",
        "print(\"El tipo de estado_civil es:\", type(estado_civil))\n",
        "print(\"El tipo de nombre_completo es:\", type(nombre_completo))\n"
      ],
      "metadata": {
        "colab": {
          "base_uri": "https://localhost:8080/"
        },
        "id": "Mw7ycDiEnVfs",
        "outputId": "69fd927f-c706-4592-e61b-9b1359b146b7"
      },
      "execution_count": 7,
      "outputs": [
        {
          "output_type": "stream",
          "name": "stdout",
          "text": [
            "El tipo de nombre es: <class 'str'>\n",
            "El tipo de apellido es: <class 'str'>\n",
            "El tipo de edad es: <class 'int'>\n",
            "El tipo de año es: <class 'int'>\n",
            "El tipo de estado_civil es: <class 'bool'>\n",
            "El tipo de nombre_completo es: <class 'str'>\n"
          ]
        }
      ]
    },
    {
      "cell_type": "code",
      "source": [
        "# EJERCICIO 7\n",
        "longitud_nombre = len(nombre)\n",
        "longitud_apellido = len(apellido)\n",
        "\n",
        "print(\"Longitud de nombre:\", longitud_nombre)\n",
        "print(\"Longitud de apellido:\", longitud_apellido)\n",
        "\n",
        "# Comparación de longitudes\n",
        "if longitud_nombre > longitud_apellido:\n",
        "    print(\"Tu nombre es más largo que tu apellido.\")\n",
        "elif longitud_nombre < longitud_apellido:\n",
        "    print(\"Tu apellido es más largo que tu nombre.\")\n",
        "else:\n",
        "    print(\"Tu nombre y apellido tienen la misma cantidad de caracteres.\")\n"
      ],
      "metadata": {
        "colab": {
          "base_uri": "https://localhost:8080/"
        },
        "id": "YPFQZnFsnVdN",
        "outputId": "722e2bfd-0a67-4e10-d73e-299727592bd8"
      },
      "execution_count": 8,
      "outputs": [
        {
          "output_type": "stream",
          "name": "stdout",
          "text": [
            "Longitud de nombre: 4\n",
            "Longitud de apellido: 5\n",
            "Tu apellido es más largo que tu nombre.\n"
          ]
        }
      ]
    },
    {
      "cell_type": "code",
      "source": [
        "# EJERCICIO 8\n",
        "num_uno = 5\n",
        "num_dos = 4\n",
        "\n",
        "total = num_uno + num_dos\n",
        "diferencia = num_uno - num_dos\n",
        "producto = num_uno * num_dos\n",
        "division = num_uno / num_dos\n",
        "resto = num_dos % num_uno\n",
        "potencia = num_uno ** num_dos\n",
        "division_entera = num_uno // num_dos\n",
        "\n",
        "print(\"Suma:\", total)\n",
        "print(\"Resta:\", diferencia)\n",
        "print(\"Multiplicación:\", producto)\n",
        "print(\"División:\", division)\n",
        "print(\"Módulo:\", resto)\n",
        "print(\"Potencia:\", potencia)\n",
        "print(\"División entera:\", division_entera)\n"
      ],
      "metadata": {
        "colab": {
          "base_uri": "https://localhost:8080/"
        },
        "id": "sPEqYbHwnVat",
        "outputId": "2a0c49e3-f035-491e-f44c-32429d567c12"
      },
      "execution_count": 9,
      "outputs": [
        {
          "output_type": "stream",
          "name": "stdout",
          "text": [
            "Suma: 9\n",
            "Resta: 1\n",
            "Multiplicación: 20\n",
            "División: 1.25\n",
            "Módulo: 4\n",
            "Potencia: 625\n",
            "División entera: 1\n"
          ]
        }
      ]
    },
    {
      "cell_type": "code",
      "source": [
        "# EJERCICIO 9\n",
        "import math\n",
        "\n",
        "radio = 30\n",
        "area_del_circulo = math.pi * (radio ** 2)\n",
        "circunferencia_del_circulo = 2 * math.pi * radio\n",
        "\n",
        "print(\"Área del círculo:\", area_del_circulo)\n",
        "print(\"Circunferencia del círculo:\", circunferencia_del_circulo)\n"
      ],
      "metadata": {
        "colab": {
          "base_uri": "https://localhost:8080/"
        },
        "id": "ww2J_DWdoQBu",
        "outputId": "7cc1eb4c-c1ec-4a2c-f58a-265c7bea3d4d"
      },
      "execution_count": 10,
      "outputs": [
        {
          "output_type": "stream",
          "name": "stdout",
          "text": [
            "Área del círculo: 2827.4333882308138\n",
            "Circunferencia del círculo: 188.49555921538757\n"
          ]
        }
      ]
    },
    {
      "cell_type": "code",
      "source": [
        "# EJERCICIO 10\n",
        "radio_usuario = float(input(\"Ingresa el radio del círculo: \"))\n",
        "area_usuario = math.pi * (radio_usuario ** 2)\n",
        "\n",
        "print(\"Área del círculo con radio\", radio_usuario, \":\", area_usuario)\n"
      ],
      "metadata": {
        "colab": {
          "base_uri": "https://localhost:8080/"
        },
        "id": "Y34zL5NtoP_E",
        "outputId": "e8271447-45f0-4365-99f2-4cb5e2d69950"
      },
      "execution_count": 11,
      "outputs": [
        {
          "output_type": "stream",
          "name": "stdout",
          "text": [
            "Ingresa el radio del círculo: 3\n",
            "Área del círculo con radio 3.0 : 28.274333882308138\n"
          ]
        }
      ]
    },
    {
      "cell_type": "code",
      "source": [
        "# EJERCICIO 11\n",
        "nombre = input(\"Ingresa tu nombre: \")\n",
        "apellido = input(\"Ingresa tu apellido: \")\n",
        "pais = input(\"Ingresa tu país: \")\n",
        "edad = int(input(\"Ingresa tu edad: \"))\n",
        "\n",
        "print(\"\\n📌 Datos ingresados:\")\n",
        "print(\"Nombre:\", nombre)\n",
        "print(\"Apellido:\", apellido)\n",
        "print(\"País:\", pais)\n",
        "print(\"Edad:\", edad)\n"
      ],
      "metadata": {
        "colab": {
          "base_uri": "https://localhost:8080/"
        },
        "id": "MA-yiIogoP8t",
        "outputId": "33e14419-22e6-4d7c-c5eb-d2cf989fe84a"
      },
      "execution_count": 12,
      "outputs": [
        {
          "output_type": "stream",
          "name": "stdout",
          "text": [
            "Ingresa tu nombre: dario\n",
            "Ingresa tu apellido: diaz\n",
            "Ingresa tu país: argentina\n",
            "Ingresa tu edad: 41\n",
            "\n",
            "📌 Datos ingresados:\n",
            "Nombre: dario\n",
            "Apellido: diaz\n",
            "País: argentina\n",
            "Edad: 41\n"
          ]
        }
      ]
    },
    {
      "cell_type": "code",
      "source": [
        "help('keywords')\n"
      ],
      "metadata": {
        "colab": {
          "base_uri": "https://localhost:8080/"
        },
        "id": "Zx_ycDu3oliu",
        "outputId": "4df3d581-3beb-4805-f436-a37301b6f4c9"
      },
      "execution_count": 13,
      "outputs": [
        {
          "output_type": "stream",
          "name": "stdout",
          "text": [
            "\n",
            "Here is a list of the Python keywords.  Enter any keyword to get more help.\n",
            "\n",
            "False               class               from                or\n",
            "None                continue            global              pass\n",
            "True                def                 if                  raise\n",
            "and                 del                 import              return\n",
            "as                  elif                in                  try\n",
            "assert              else                is                  while\n",
            "async               except              lambda              with\n",
            "await               finally             nonlocal            yield\n",
            "break               for                 not                 \n",
            "\n"
          ]
        }
      ]
    }
  ]
}