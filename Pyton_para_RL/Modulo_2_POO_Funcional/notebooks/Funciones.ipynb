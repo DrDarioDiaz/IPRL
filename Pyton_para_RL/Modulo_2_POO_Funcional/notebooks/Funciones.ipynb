{
  "nbformat": 4,
  "nbformat_minor": 0,
  "metadata": {
    "colab": {
      "provenance": []
    },
    "kernelspec": {
      "name": "python3",
      "display_name": "Python 3"
    },
    "language_info": {
      "name": "python"
    }
  },
  "cells": [
    {
      "cell_type": "code",
      "execution_count": null,
      "metadata": {
        "id": "Vv5E2LivxKqk"
      },
      "outputs": [],
      "source": [
        "#Funciones\n",
        "def nombre_de_función (parámetro1, parámetro2):\n",
        "    #cuerpo de la función\n",
        "    #Operaciones que queremos realizar\n",
        "    return resultado #Opcional"
      ]
    },
    {
      "cell_type": "code",
      "source": [
        "def saludar():\n",
        "    print(\"Hola, bienvenido al módulo 2\")"
      ],
      "metadata": {
        "id": "NBSQMJzLMsgX"
      },
      "execution_count": null,
      "outputs": []
    },
    {
      "cell_type": "code",
      "source": [
        "saludar()"
      ],
      "metadata": {
        "colab": {
          "base_uri": "https://localhost:8080/"
        },
        "id": "NvzuxoBING1m",
        "outputId": "144f36c7-4d30-480c-ec86-dc0b38512050"
      },
      "execution_count": null,
      "outputs": [
        {
          "output_type": "stream",
          "name": "stdout",
          "text": [
            "Hola, bienvenido al módulo 2\n"
          ]
        }
      ]
    },
    {
      "cell_type": "code",
      "source": [
        "def saludar_persona(nombre):\n",
        "    print(f\"Hola, {nombre}, ¡bienvenido al Módulo 2\")"
      ],
      "metadata": {
        "id": "msaWE3cFNacd"
      },
      "execution_count": null,
      "outputs": []
    },
    {
      "cell_type": "code",
      "source": [
        "saludar_persona(\"Dario\")"
      ],
      "metadata": {
        "colab": {
          "base_uri": "https://localhost:8080/"
        },
        "id": "ln-5AEObNjyu",
        "outputId": "0f34f7f6-0b87-4add-d491-c556223e8fc3"
      },
      "execution_count": null,
      "outputs": [
        {
          "output_type": "stream",
          "name": "stdout",
          "text": [
            "Hola, Dario, ¡bienvenido al Módulo 2\n"
          ]
        }
      ]
    },
    {
      "cell_type": "code",
      "source": [
        "saludar_persona(\"María\")"
      ],
      "metadata": {
        "colab": {
          "base_uri": "https://localhost:8080/"
        },
        "id": "4iMQug2eNr-N",
        "outputId": "a73d6af9-9b63-4c92-da2a-81fa49ec7253"
      },
      "execution_count": null,
      "outputs": [
        {
          "output_type": "stream",
          "name": "stdout",
          "text": [
            "Hola, María, ¡bienvenido al Módulo 2\n"
          ]
        }
      ]
    },
    {
      "cell_type": "code",
      "source": [
        "def sumar(a,b):\n",
        "    resultado=a+b\n",
        "    return resultado"
      ],
      "metadata": {
        "id": "WV71SZQON2cv"
      },
      "execution_count": null,
      "outputs": []
    },
    {
      "cell_type": "code",
      "source": [
        "suma=sumar(3,4)\n",
        "print(suma)"
      ],
      "metadata": {
        "colab": {
          "base_uri": "https://localhost:8080/"
        },
        "id": "KKDfag08N-vt",
        "outputId": "5020f65b-7138-48dc-d414-3ff6e49f4e8e"
      },
      "execution_count": null,
      "outputs": [
        {
          "output_type": "stream",
          "name": "stdout",
          "text": [
            "7\n"
          ]
        }
      ]
    },
    {
      "cell_type": "code",
      "source": [
        "def calcular_area_rectangulo(base, altura):\n",
        "    \"\"\"Calcula el área de un rectángulo dada su base y su altura\"\"\"\n",
        "    return base*altura"
      ],
      "metadata": {
        "id": "9LBJAg_lOXhG"
      },
      "execution_count": null,
      "outputs": []
    },
    {
      "cell_type": "code",
      "source": [
        "#Base=5 unidades; Altura=3 unidades\n",
        "area=calcular_area_rectangulo(5, 3)\n",
        "print(\"El área del rectángulo es:\", area)"
      ],
      "metadata": {
        "colab": {
          "base_uri": "https://localhost:8080/"
        },
        "id": "wPisFSb_OkP1",
        "outputId": "0fbd8077-7db4-412d-fc20-97e7d486a00e"
      },
      "execution_count": null,
      "outputs": [
        {
          "output_type": "stream",
          "name": "stdout",
          "text": [
            "El área del rectángulo es: 15\n"
          ]
        }
      ]
    },
    {
      "cell_type": "code",
      "source": [
        "base= float(input(\"Ingresá la base del rectángulo:\"))\n",
        "altura=float(input(\"Ingresa la altura del rectángulo\"))\n",
        "area=calcular_area_rectangulo(base, altura)\n",
        "print(\"El área del rectángulo es:\", area)"
      ],
      "metadata": {
        "colab": {
          "base_uri": "https://localhost:8080/"
        },
        "id": "QkeG1yNcPGjk",
        "outputId": "a4518502-7bd3-4c29-aa48-ca4a2d4976d1"
      },
      "execution_count": null,
      "outputs": [
        {
          "output_type": "stream",
          "name": "stdout",
          "text": [
            "Ingresá la base del rectángulo:5\n",
            "Ingresa la altura del rectángulo3\n",
            "El área del rectángulo es: 15.0\n"
          ]
        }
      ]
    },
    {
      "cell_type": "code",
      "source": [
        "def presentar(nombre, edad):\n",
        "    print(f\"Mi nombre es {nombre} y tengo {edad} años\")\n",
        "\n",
        "presentar(\"Ana\", 25)"
      ],
      "metadata": {
        "colab": {
          "base_uri": "https://localhost:8080/"
        },
        "id": "6vm0bkhLQIdT",
        "outputId": "098000c9-9b52-4a9c-a954-a26729b3c89b"
      },
      "execution_count": null,
      "outputs": [
        {
          "output_type": "stream",
          "name": "stdout",
          "text": [
            "Mi nombre es Ana y tengo 25 años\n"
          ]
        }
      ]
    },
    {
      "cell_type": "code",
      "source": [
        "#Este es un ejemplo de parámetros posicionales"
      ],
      "metadata": {
        "id": "80DNfSoTQnkb"
      },
      "execution_count": null,
      "outputs": []
    },
    {
      "cell_type": "code",
      "source": [
        "def saludar_personalizado(nombre, mensaje=\"Bienvenido al curso\"):\n",
        "    print(f\"Hola {nombre}, {mensaje}\")\n",
        "saludar_personalizado(\"Carlos\")\n",
        "saludar_personalizado(\"María\", \"Que gusto verte de nuevo\")"
      ],
      "metadata": {
        "colab": {
          "base_uri": "https://localhost:8080/"
        },
        "id": "wwp37Nr5QsVT",
        "outputId": "f020bc6d-caed-4dc2-9b00-e3b7d77874c0"
      },
      "execution_count": null,
      "outputs": [
        {
          "output_type": "stream",
          "name": "stdout",
          "text": [
            "Hola Carlos, Bienvenido al curso\n",
            "Hola María, Que gusto verte de nuevo\n"
          ]
        }
      ]
    },
    {
      "cell_type": "code",
      "source": [
        "def describir_persona(nombre, edad, profesion):\n",
        "    print(f\"{nombre} tiene {edad} años y trabaja como {profesion}\")\n",
        "describir_persona(edad=30, nombre=\"Luis\", profesion=\"Ingeniero\")"
      ],
      "metadata": {
        "colab": {
          "base_uri": "https://localhost:8080/"
        },
        "id": "QQBw708cRUMT",
        "outputId": "1a906923-75d3-4776-aeb9-e9f8190cc60d"
      },
      "execution_count": null,
      "outputs": [
        {
          "output_type": "stream",
          "name": "stdout",
          "text": [
            "Luis tiene 30 años y trabaja como Ingeniero\n"
          ]
        }
      ]
    },
    {
      "cell_type": "code",
      "source": [
        "def suma(*numeros):\n",
        "    total=0\n",
        "    for numero in numeros:\n",
        "        total+=numero\n",
        "    return total\n",
        "print(sumar(1,2))\n",
        "print(suma(1,2,3,4,5))"
      ],
      "metadata": {
        "colab": {
          "base_uri": "https://localhost:8080/"
        },
        "id": "Z4w8hyRrR0Qa",
        "outputId": "0ba9df79-d5e2-4e49-8d07-72b43bd31f2e"
      },
      "execution_count": null,
      "outputs": [
        {
          "output_type": "stream",
          "name": "stdout",
          "text": [
            "3\n",
            "15\n"
          ]
        }
      ]
    },
    {
      "cell_type": "code",
      "source": [
        "def datos_personales(**datos):\n",
        "    for clave, valor in datos.items():\n",
        "        print(f\"{clave}:{valor}\")\n",
        "datos_personales(nombre= \"Pedro\", edad=28, ciudad= \"Buenos Aires\", profesion= \"programador\")"
      ],
      "metadata": {
        "colab": {
          "base_uri": "https://localhost:8080/"
        },
        "id": "R14rlCkTT8xo",
        "outputId": "b6e220e2-fea6-45dc-9972-f8c678318847"
      },
      "execution_count": null,
      "outputs": [
        {
          "output_type": "stream",
          "name": "stdout",
          "text": [
            "nombre:Pedro\n",
            "edad:28\n",
            "ciudad:Buenos Aires\n",
            "profesion:programador\n"
          ]
        }
      ]
    },
    {
      "cell_type": "code",
      "source": [
        "def calcular_estadisticas(numeros):\n",
        "    total=sum(numeros)\n",
        "    promedio=total/len(numeros)\n",
        "    return total, promedio, min(numeros), max(numeros)\n",
        "total, promedio, minimo, maximo= calcular_estadisticas([2,2,3,4,20])\n",
        "print(f\"Total: {total}, Promedio: {promedio}, Mínimo:{minimo}, Máximo:{maximo}\")"
      ],
      "metadata": {
        "colab": {
          "base_uri": "https://localhost:8080/"
        },
        "id": "Bi6NTLP5Uuqo",
        "outputId": "8b79638d-54f5-44cf-ee7a-d78e42595210"
      },
      "execution_count": null,
      "outputs": [
        {
          "output_type": "stream",
          "name": "stdout",
          "text": [
            "Total: 31, Promedio: 6.2, Mínimo:2, Máximo:20\n"
          ]
        }
      ]
    },
    {
      "cell_type": "code",
      "source": [
        "def funcion_sin_return():\n",
        "    x=10\n",
        "resultado=funcion_sin_return()\n",
        "print(resultado)"
      ],
      "metadata": {
        "colab": {
          "base_uri": "https://localhost:8080/"
        },
        "id": "x8nGPFNUWLCX",
        "outputId": "3510719f-4991-4150-fd65-f1690c730da0"
      },
      "execution_count": null,
      "outputs": [
        {
          "output_type": "stream",
          "name": "stdout",
          "text": [
            "None\n"
          ]
        }
      ]
    },
    {
      "cell_type": "code",
      "source": [
        "x=10\n",
        "def modificar_variable():\n",
        "    x=5\n",
        "    print(f\"Dentro de la función:{x}\")\n",
        "modificar_variable()\n",
        "print(f\"Fuera de la función:{x}\")"
      ],
      "metadata": {
        "colab": {
          "base_uri": "https://localhost:8080/"
        },
        "id": "HfFLfSBOW64N",
        "outputId": "eb3b8473-c4bc-41cb-bfc1-de6a6c7ac95c"
      },
      "execution_count": null,
      "outputs": [
        {
          "output_type": "stream",
          "name": "stdout",
          "text": [
            "Dentro de la función:5\n",
            "Fuera de la función:10\n"
          ]
        }
      ]
    },
    {
      "cell_type": "code",
      "source": [
        "#Funciones lambda\n",
        "lambda parametros: expresión\n"
      ],
      "metadata": {
        "id": "hm-IgC_BVk7B"
      },
      "execution_count": null,
      "outputs": []
    },
    {
      "cell_type": "code",
      "source": [
        "#Función tradicional\n",
        "def cuadrado(x):\n",
        "    return x**2\n",
        "\n",
        "#equivalente con lambda\n",
        "cuadrado_lambda=lambda x: x**2\n",
        "\n",
        "print(cuadrado(5))\n",
        "print(cuadrado_lambda(5))"
      ],
      "metadata": {
        "colab": {
          "base_uri": "https://localhost:8080/"
        },
        "id": "Q2YABRMbX8dP",
        "outputId": "76ea94d9-6b9c-468e-c793-9783c93282b3"
      },
      "execution_count": null,
      "outputs": [
        {
          "output_type": "stream",
          "name": "stdout",
          "text": [
            "25\n",
            "25\n"
          ]
        }
      ]
    },
    {
      "cell_type": "code",
      "source": [
        "suma= lambda x,y: x+y\n",
        "print(suma(3,4))"
      ],
      "metadata": {
        "colab": {
          "base_uri": "https://localhost:8080/"
        },
        "id": "Y95cVFrYX8Zf",
        "outputId": "faaeb119-1b6e-4c3c-8d54-0ee3bcc470e1"
      },
      "execution_count": null,
      "outputs": [
        {
          "output_type": "stream",
          "name": "stdout",
          "text": [
            "7\n"
          ]
        }
      ]
    },
    {
      "cell_type": "code",
      "source": [
        "print((lambda x,y: x*y)(6, 7))"
      ],
      "metadata": {
        "colab": {
          "base_uri": "https://localhost:8080/"
        },
        "id": "Jwdzg3c8Z7HN",
        "outputId": "7f7dd775-0087-4b26-c2f8-110887576ef6"
      },
      "execution_count": null,
      "outputs": [
        {
          "output_type": "stream",
          "name": "stdout",
          "text": [
            "42\n"
          ]
        }
      ]
    },
    {
      "cell_type": "code",
      "source": [
        "estudiantes = [\n",
        "    {'nombre': 'Ana', 'nota': 85},\n",
        "    {'nombre': 'Carlos', 'nota': 92},\n",
        "    {'nombre': 'Belén', 'nota': 78}\n",
        "]\n",
        "\n",
        "# Ordenar por nota de forma descendente\n",
        "ordenados_por_nota = sorted(estudiantes, key=lambda estudiante: estudiante['nota'], reverse=True)\n",
        "print(ordenados_por_nota)\n"
      ],
      "metadata": {
        "colab": {
          "base_uri": "https://localhost:8080/"
        },
        "id": "oEfLS19yaK_1",
        "outputId": "40800017-5ece-4594-b1ff-65bc63b650f4"
      },
      "execution_count": null,
      "outputs": [
        {
          "output_type": "stream",
          "name": "stdout",
          "text": [
            "[{'nombre': 'Carlos', 'nota': 92}, {'nombre': 'Ana', 'nota': 85}, {'nombre': 'Belén', 'nota': 78}]\n"
          ]
        }
      ]
    },
    {
      "cell_type": "code",
      "source": [
        "def convertir_temperatura(valor, unidad_origen=\"C\"):\n",
        "    \"\"\"\n",
        "    Convierte temperaturas entre Celsius y Fahrenheit.\n",
        "\n",
        "    Parámetros:\n",
        "    valor: Temperatura a convertir\n",
        "    unidad_origen: 'C' para Celsius, 'F' para Fahrenheit\n",
        "\n",
        "    Retorna:\n",
        "    Temperatura convertida (float)\n",
        "    \"\"\"\n",
        "    if unidad_origen.upper() == \"C\":\n",
        "        return (valor * 9/5) + 32\n",
        "    elif unidad_origen.upper() == \"F\":\n",
        "        return (valor - 32) * 5/9\n",
        "    else:\n",
        "        return None"
      ],
      "metadata": {
        "id": "d80ElLC0iRwN"
      },
      "execution_count": null,
      "outputs": []
    },
    {
      "cell_type": "code",
      "source": [
        "temp_c=25\n",
        "temp_f= convertir_temperatura(temp_c)\n",
        "print(f\"{temp_c}°C equivale a {temp_f:.1f}°F\")"
      ],
      "metadata": {
        "colab": {
          "base_uri": "https://localhost:8080/"
        },
        "id": "VL6Xb47CjWxU",
        "outputId": "7b94fa3f-43ce-4d1e-e58f-a25773730632"
      },
      "execution_count": null,
      "outputs": [
        {
          "output_type": "stream",
          "name": "stdout",
          "text": [
            "25°C equivale a 77.0°F\n"
          ]
        }
      ]
    },
    {
      "cell_type": "code",
      "source": [
        "temp_f = 98.6\n",
        "temp_c = convertir_temperatura(temp_f, \"F\")\n",
        "print(f\"{temp_f}°F equivale a {temp_c:.1f}°C\")"
      ],
      "metadata": {
        "colab": {
          "base_uri": "https://localhost:8080/"
        },
        "id": "AUqCIo4KkU8b",
        "outputId": "b7fb3c02-f629-467e-ab7e-32e01fc9105b"
      },
      "execution_count": null,
      "outputs": [
        {
          "output_type": "stream",
          "name": "stdout",
          "text": [
            "98.6°F equivale a 37.0°C\n"
          ]
        }
      ]
    },
    {
      "cell_type": "code",
      "source": [
        "#Funciones como Objetos de Primera Clase\n",
        "def saludar(nombre):\n",
        "    return f\"Hola, {nombre}\"\n",
        "\n",
        "def despedir(nombre):\n",
        "    return f\"Adiós, {nombre}\"\n",
        "\n",
        "# Almacenar funciones en variables\n",
        "saludo = saludar\n",
        "print(saludo(\"Juan\"))  # \"Hola, Juan\"\n",
        "\n",
        "# Almacenar funciones en estructuras de datos\n",
        "acciones = [saludar, despedir]\n",
        "for accion in acciones:\n",
        "    print(accion(\"María\"))  # \"Hola, María\" y luego \"Adiós, María\"\n",
        "\n",
        "# Diccionario de funciones\n",
        "operaciones = {\n",
        "    'suma': lambda x, y: x + y,\n",
        "    'resta': lambda x, y: x - y,\n",
        "    'multiplicacion': lambda x, y: x * y\n",
        "}\n",
        "\n",
        "print(operaciones['suma'](5, 3))  # 8"
      ],
      "metadata": {
        "colab": {
          "base_uri": "https://localhost:8080/"
        },
        "id": "-MTZ4YalmNNQ",
        "outputId": "e1644d15-3e68-4f09-a00e-e79df936b6b1"
      },
      "execution_count": null,
      "outputs": [
        {
          "output_type": "stream",
          "name": "stdout",
          "text": [
            "Hola, Juan\n",
            "Hola, María\n",
            "Adiós, María\n",
            "8\n"
          ]
        }
      ]
    },
    {
      "cell_type": "code",
      "source": [
        "#Funciones anidadas (Clausuras)\n",
        "def crear_multiplicador(factor):\n",
        "    # Esta función interna \"recuerda\" el valor de factor\n",
        "    def multiplicar(numero):\n",
        "        return numero * factor\n",
        "\n",
        "    return multiplicar  # Retornamos la función, no el resultado\n",
        "\n",
        "# Creamos funciones especializadas\n",
        "duplicar = crear_multiplicador(2)\n",
        "triplicar = crear_multiplicador(3)\n",
        "\n",
        "print(duplicar(5))   # 10\n",
        "print(triplicar(5))  # 15"
      ],
      "metadata": {
        "colab": {
          "base_uri": "https://localhost:8080/"
        },
        "id": "0Jlk6CA6mNI5",
        "outputId": "be519d35-7530-43a5-b2cf-e0aaae8efb4a"
      },
      "execution_count": null,
      "outputs": [
        {
          "output_type": "stream",
          "name": "stdout",
          "text": [
            "10\n",
            "15\n"
          ]
        }
      ]
    },
    {
      "cell_type": "code",
      "source": [
        "#Recursividad"
      ],
      "metadata": {
        "id": "CFCTRKRSwCmX"
      },
      "execution_count": null,
      "outputs": []
    },
    {
      "cell_type": "code",
      "source": [
        "def factorial(n):\n",
        "    \"\"\"Calcula el factorial de n recursivamente.\"\"\"\n",
        "    # Caso base\n",
        "    if n == 0 or n == 1:\n",
        "        return 1\n",
        "    # Caso recursivo\n",
        "    return n * factorial(n-1)\n",
        "\n",
        "# Calculamos algunos factoriales\n",
        "for i in range(6):\n",
        "    print(f\"{i}! = {factorial(i)}\")"
      ],
      "metadata": {
        "colab": {
          "base_uri": "https://localhost:8080/"
        },
        "id": "6FGT5zqRwEk3",
        "outputId": "26233387-1f14-4c95-97b0-485351eab4ad"
      },
      "execution_count": null,
      "outputs": [
        {
          "output_type": "stream",
          "name": "stdout",
          "text": [
            "0! = 1\n",
            "1! = 1\n",
            "2! = 2\n",
            "3! = 6\n",
            "4! = 24\n",
            "5! = 120\n"
          ]
        }
      ]
    },
    {
      "cell_type": "code",
      "source": [
        "#Decoradores\n",
        "def funcion_externa():\n",
        "    print(\"Ejecutando función externa\")\n",
        "\n",
        "    def funcion_interna():\n",
        "        print(\"Ejecutando función interna\")\n",
        "\n",
        "    funcion_interna()\n",
        "\n",
        "funcion_externa()\n"
      ],
      "metadata": {
        "colab": {
          "base_uri": "https://localhost:8080/"
        },
        "id": "LlH2Ch-K8wrb",
        "outputId": "9b2f629f-9adf-4ca7-a029-56999b773b87"
      },
      "execution_count": null,
      "outputs": [
        {
          "output_type": "stream",
          "name": "stdout",
          "text": [
            "Ejecutando función externa\n",
            "Ejecutando función interna\n"
          ]
        }
      ]
    },
    {
      "cell_type": "code",
      "source": [
        "def aplicar_operacion(numero_inicial):\n",
        "    \"\"\"\n",
        "    Crea y aplica diferentes operaciones a un número inicial.\n",
        "    \"\"\"\n",
        "\n",
        "    def sumar(valor):\n",
        "        return numero_inicial + valor\n",
        "\n",
        "    def restar(valor):\n",
        "        return numero_inicial - valor\n",
        "\n",
        "    def multiplicar(factor):\n",
        "        return numero_inicial * factor\n",
        "\n",
        "    print(f\"Número inicial: {numero_inicial}\")\n",
        "    print(f\"Sumar 5: {sumar(5)}\")\n",
        "    print(f\"Restar 3: {restar(3)}\")\n",
        "    print(f\"Multiplicar por 2: {multiplicar(2)}\")\n",
        "\n",
        "# Usamos la función externa con un número inicial\n",
        "aplicar_operacion(10)"
      ],
      "metadata": {
        "colab": {
          "base_uri": "https://localhost:8080/"
        },
        "id": "Gt3Qsec0966i",
        "outputId": "ead370cb-6076-42b3-a3da-cc7bf34f3738"
      },
      "execution_count": null,
      "outputs": [
        {
          "output_type": "stream",
          "name": "stdout",
          "text": [
            "Número inicial: 10\n",
            "Sumar 5: 15\n",
            "Restar 3: 7\n",
            "Multiplicar por 2: 20\n"
          ]
        }
      ]
    },
    {
      "cell_type": "code",
      "source": [
        "def aplicar_funcion(funcion, valor):\n",
        "    return funcion(valor)\n",
        "\n",
        "def duplicar(x):\n",
        "    return x * 2\n",
        "\n",
        "def cuadrado(x):\n",
        "    return x ** 2\n",
        "\n",
        "# Usamos aplicar_funcion con diferentes funciones\n",
        "print(aplicar_funcion(duplicar, 5))  # 10\n",
        "print(aplicar_funcion(cuadrado, 5))  # 25"
      ],
      "metadata": {
        "colab": {
          "base_uri": "https://localhost:8080/"
        },
        "id": "Y3pJq4WM_pwR",
        "outputId": "c21720d9-0cdb-4749-8bbb-1365668c2d01"
      },
      "execution_count": null,
      "outputs": [
        {
          "output_type": "stream",
          "name": "stdout",
          "text": [
            "10\n",
            "25\n"
          ]
        }
      ]
    },
    {
      "cell_type": "code",
      "source": [
        "def mi_decorador(funcion):\n",
        "    def wrapper():\n",
        "        print(\"Antes de llamar a la función\")\n",
        "        funcion()  # Llamamos a la función original\n",
        "        print(\"Después de llamar a la función\")\n",
        "\n",
        "    return wrapper\n",
        "\n",
        "# Aplicamos el decorador manualmente\n",
        "def saludar():\n",
        "    print(\"¡Hola Mundo!\")\n",
        "\n",
        "saludar_decorada = mi_decorador(saludar)\n",
        "saludar_decorada()  # Ejecuta la función decorada"
      ],
      "metadata": {
        "colab": {
          "base_uri": "https://localhost:8080/"
        },
        "id": "aJuzFTGkASYg",
        "outputId": "f2176d5c-8713-4a89-c27c-b4f2b4ab7687"
      },
      "execution_count": null,
      "outputs": [
        {
          "output_type": "stream",
          "name": "stdout",
          "text": [
            "Antes de llamar a la función\n",
            "¡Hola Mundo!\n",
            "Después de llamar a la función\n"
          ]
        }
      ]
    },
    {
      "cell_type": "code",
      "source": [
        "def manejar_errores(funcion):\n",
        "    def wrapper(*args, **kwargs):\n",
        "        try:\n",
        "            return funcion(*args, **kwargs)\n",
        "        except Exception as e:\n",
        "            print(f\"Error en {funcion.__name__}: {str(e)}\")\n",
        "            return None  # Valor por defecto en caso de error\n",
        "\n",
        "    return wrapper\n",
        "\n",
        "@manejar_errores\n",
        "def dividir(a, b):\n",
        "    return a / b\n",
        "\n",
        "# Probamos con un caso que generaría error\n",
        "resultado1 = dividir(10, 2)  # Funciona correctamente\n",
        "resultado2 = dividir(10, 0)  # Manejaría la división por cero\n",
        "\n",
        "print(f\"Resultado 1: {resultado1}\")\n",
        "print(f\"Resultado 2: {resultado2}\")"
      ],
      "metadata": {
        "colab": {
          "base_uri": "https://localhost:8080/"
        },
        "id": "IZD9xF0hBDAb",
        "outputId": "20d0a3c0-920a-4a5b-e591-36d2d3b4b3c5"
      },
      "execution_count": null,
      "outputs": [
        {
          "output_type": "stream",
          "name": "stdout",
          "text": [
            "Error en dividir: division by zero\n",
            "Resultado 1: 5.0\n",
            "Resultado 2: None\n"
          ]
        }
      ]
    },
    {
      "cell_type": "code",
      "source": [
        "def ejemplo(*args, **kwargs):\n",
        "    print(\"Posicionales:\", args)\n",
        "    print(\"Con nombre:\", kwargs)\n",
        "\n",
        "ejemplo(1, 2, 3, nombre=\"Ana\", edad=30)\n"
      ],
      "metadata": {
        "colab": {
          "base_uri": "https://localhost:8080/"
        },
        "id": "psDB6ltACPwO",
        "outputId": "7cf3a559-9b37-4505-ba42-1dd4d837d7db"
      },
      "execution_count": null,
      "outputs": [
        {
          "output_type": "stream",
          "name": "stdout",
          "text": [
            "Posicionales: (1, 2, 3)\n",
            "Con nombre: {'nombre': 'Ana', 'edad': 30}\n"
          ]
        }
      ]
    },
    {
      "cell_type": "code",
      "source": [
        "#Programación funcional\n",
        "#1) Inmutabilidad\n",
        "#2) Funciones puras\n",
        "#3) Expresividad\n",
        "#4) Composición de funciones"
      ],
      "metadata": {
        "id": "9_f_3F1yHW2A"
      },
      "execution_count": null,
      "outputs": []
    },
    {
      "cell_type": "code",
      "source": [
        "#Funciones de Orden superior\n",
        "def aplicar_funcion(funcion, valor):\n",
        "    return funcion(valor)"
      ],
      "metadata": {
        "id": "0DwbdlaEHsR3"
      },
      "execution_count": null,
      "outputs": []
    },
    {
      "cell_type": "code",
      "source": [
        "def cuadrado(x):\n",
        "    return x ** 2\n",
        "\n",
        "def cubo(x):\n",
        "    return x ** 3\n",
        "\n",
        "resultado_cuadrado = aplicar_funcion(cuadrado, 5)\n",
        "print(f\"El cuadrado de 5 es: {resultado_cuadrado}\")  # Salida: El cuadrado de 5 es: 25\n",
        "\n",
        "resultado_cubo = aplicar_funcion(cubo, 3)\n",
        "print(f\"El cubo de 3 es: {resultado_cubo}\")      # Salida: El cubo de 3 es: 27"
      ],
      "metadata": {
        "colab": {
          "base_uri": "https://localhost:8080/"
        },
        "id": "KbVB7hvkIJKI",
        "outputId": "578b57c7-4c3d-49be-982f-54d0db2ddd05"
      },
      "execution_count": null,
      "outputs": [
        {
          "output_type": "stream",
          "name": "stdout",
          "text": [
            "El cuadrado de 5 es: 25\n",
            "El cubo de 3 es: 27\n"
          ]
        }
      ]
    },
    {
      "cell_type": "code",
      "source": [
        "#Map-Transformar elementos"
      ],
      "metadata": {
        "id": "uF-GNyftIlrn"
      },
      "execution_count": null,
      "outputs": []
    },
    {
      "cell_type": "code",
      "source": [
        "cadenas = [\"1\", \"2\", \"3\"]\n",
        "numeros = list(map(int, cadenas))  # [1, 2, 3]\n"
      ],
      "metadata": {
        "id": "q-sW0hw8IsG2"
      },
      "execution_count": null,
      "outputs": []
    },
    {
      "cell_type": "code",
      "source": [
        "def cuadrado(x): return x ** 2\n",
        "print(list(map(cuadrado, [1, 2, 3])))  # [1, 4, 9]\n"
      ],
      "metadata": {
        "colab": {
          "base_uri": "https://localhost:8080/"
        },
        "id": "pCIuDGjOJpK-",
        "outputId": "2b01d72a-ff2c-48ba-ca7e-e5e18931121a"
      },
      "execution_count": null,
      "outputs": [
        {
          "output_type": "stream",
          "name": "stdout",
          "text": [
            "[1, 4, 9]\n"
          ]
        }
      ]
    },
    {
      "cell_type": "code",
      "source": [
        "#Filter-Filtar elementos"
      ],
      "metadata": {
        "id": "Yk4c-6rCKTXk"
      },
      "execution_count": null,
      "outputs": []
    },
    {
      "cell_type": "code",
      "source": [
        "numeros = list(range(1, 11))\n",
        "pares = list(filter(lambda x: x % 2 == 0, numeros))\n",
        "print(pares)  # [2, 4, 6, 8, 10]\n"
      ],
      "metadata": {
        "colab": {
          "base_uri": "https://localhost:8080/"
        },
        "id": "LGTUedFbKV8c",
        "outputId": "43d8a5d8-7b5b-4d25-a82a-2106968029a9"
      },
      "execution_count": null,
      "outputs": [
        {
          "output_type": "stream",
          "name": "stdout",
          "text": [
            "[2, 4, 6, 8, 10]\n"
          ]
        }
      ]
    },
    {
      "cell_type": "code",
      "source": [
        "#Reduce-Reducir a un solo valor\n",
        "from functools import reduce\n",
        "numeros = [1, 2, 3, 4, 5]\n",
        "suma = reduce(lambda x, y: x + y, numeros)  # 15\n"
      ],
      "metadata": {
        "id": "pUMUL756Lc6L"
      },
      "execution_count": null,
      "outputs": []
    },
    {
      "cell_type": "code",
      "source": [
        "#Listas de comprensión\n",
        "cuadrados = [x**2 for x in range(5)]  # [0, 1, 4, 9, 16]\n",
        "pares = [x for x in range(10) if x % 2 == 0]  # [0, 2, 4, 6, 8]\n"
      ],
      "metadata": {
        "id": "jdemeW_PMohr"
      },
      "execution_count": null,
      "outputs": []
    },
    {
      "cell_type": "code",
      "source": [
        "print(cuadrados)\n",
        "print(pares)"
      ],
      "metadata": {
        "colab": {
          "base_uri": "https://localhost:8080/"
        },
        "id": "id3chHecNAFJ",
        "outputId": "88c2ee52-c9a6-4e59-abbc-1d63c453e9ca"
      },
      "execution_count": null,
      "outputs": [
        {
          "output_type": "stream",
          "name": "stdout",
          "text": [
            "[0, 1, 4, 9, 16]\n",
            "[0, 2, 4, 6, 8]\n"
          ]
        }
      ]
    },
    {
      "cell_type": "code",
      "source": [
        "#Funciones parciales\n",
        "from functools import partial\n",
        "\n",
        "def potencia(base, exponente):\n",
        "    return base ** exponente\n",
        "\n",
        "cuadrado = partial(potencia, exponente=2)\n",
        "print(cuadrado(5))  # 25\n"
      ],
      "metadata": {
        "colab": {
          "base_uri": "https://localhost:8080/"
        },
        "id": "ReEx2SyINsyJ",
        "outputId": "d2e5c867-642e-473a-ee49-b047ad1654a8"
      },
      "execution_count": null,
      "outputs": [
        {
          "output_type": "stream",
          "name": "stdout",
          "text": [
            "25\n"
          ]
        }
      ]
    },
    {
      "cell_type": "code",
      "source": [
        "#Operadores funcionales"
      ],
      "metadata": {
        "id": "BfDFYiw_Ol4Q"
      },
      "execution_count": null,
      "outputs": []
    },
    {
      "cell_type": "code",
      "source": [
        "import operator\n",
        "\n",
        "# map con suma\n",
        "numeros = [1, 2, 3]\n",
        "print(list(map(operator.add, numeros, [10]*3)))  # [11, 12, 13]\n",
        "\n",
        "# reduce con multiplicación\n",
        "from functools import reduce\n",
        "print(reduce(operator.mul, [1, 2, 3, 4]))  # 24\n"
      ],
      "metadata": {
        "colab": {
          "base_uri": "https://localhost:8080/"
        },
        "id": "6s3ZJwJEOnKB",
        "outputId": "0b03a551-6721-4fa4-e502-83d8b811a2f3"
      },
      "execution_count": null,
      "outputs": [
        {
          "output_type": "stream",
          "name": "stdout",
          "text": [
            "[11, 12, 13]\n",
            "24\n"
          ]
        }
      ]
    },
    {
      "cell_type": "code",
      "source": [
        "#Clases y Objetos\n",
        "#Clases: plano o molde\n",
        "class Persona:\n",
        "    def __init__(self, nombre, edad):\n",
        "        self.nombre = nombre\n",
        "        self.edad = edad\n",
        "\n",
        "    def saludar(self):\n",
        "        print(f\"Hola, soy {self.nombre} y tengo {self.edad} años.\")"
      ],
      "metadata": {
        "id": "4qJJ5XD-6iDo"
      },
      "execution_count": null,
      "outputs": []
    },
    {
      "cell_type": "code",
      "source": [
        "persona1=Persona(\"Ana\", 30)\n",
        "persona1.saludar()"
      ],
      "metadata": {
        "colab": {
          "base_uri": "https://localhost:8080/"
        },
        "id": "XibS5F7V7J_H",
        "outputId": "c6236fb2-9fc8-4ce8-85bd-ae4397088309"
      },
      "execution_count": null,
      "outputs": [
        {
          "output_type": "stream",
          "name": "stdout",
          "text": [
            "Hola, soy Ana y tengo 30 años.\n"
          ]
        }
      ]
    },
    {
      "cell_type": "code",
      "source": [
        "#Objeto: es una instancia creada a partir de una clase."
      ],
      "metadata": {
        "id": "nSEhEiQP71WO"
      },
      "execution_count": null,
      "outputs": []
    },
    {
      "cell_type": "code",
      "source": [
        "persona2=Persona(\"Luis\", 25)\n",
        "persona2.saludar()"
      ],
      "metadata": {
        "colab": {
          "base_uri": "https://localhost:8080/"
        },
        "id": "vJSd6FrI8Ec3",
        "outputId": "6cddbf6f-ca0c-43a6-c9d4-019e63c8cbb6"
      },
      "execution_count": null,
      "outputs": [
        {
          "output_type": "stream",
          "name": "stdout",
          "text": [
            "Hola, soy Luis y tengo 25 años.\n"
          ]
        }
      ]
    },
    {
      "cell_type": "code",
      "source": [
        "#Atributos: información que define a un objeto"
      ],
      "metadata": {
        "id": "WKfd7q3y-DpN"
      },
      "execution_count": null,
      "outputs": []
    },
    {
      "cell_type": "code",
      "source": [
        "class Animal:\n",
        "    def __init__(self, nombre):\n",
        "        self.nombre = nombre  # Atributo de instancia"
      ],
      "metadata": {
        "id": "3RVZbdED-Qg0"
      },
      "execution_count": null,
      "outputs": []
    },
    {
      "cell_type": "code",
      "source": [
        "animal1 = Animal(\"Fido\")\n",
        "animal2 = Animal(\"Luna\")\n",
        "\n",
        "print(animal1.nombre)  # Output: Fido\n",
        "print(animal2.nombre)  # Output: Luna"
      ],
      "metadata": {
        "colab": {
          "base_uri": "https://localhost:8080/"
        },
        "id": "7zImqzRQ-bes",
        "outputId": "99665870-4641-4934-8697-3e4e07d178d5"
      },
      "execution_count": null,
      "outputs": [
        {
          "output_type": "stream",
          "name": "stdout",
          "text": [
            "Fido\n",
            "Luna\n"
          ]
        }
      ]
    },
    {
      "cell_type": "code",
      "source": [
        "#Atributos de clase\n",
        "class Animal:\n",
        "    especie = \"Mamífero\"  # Atributo de clase\n",
        "\n",
        "    def __init__(self, nombre):\n",
        "        self.nombre = nombre  # Atributo de instancia"
      ],
      "metadata": {
        "id": "7ACUBvro-wyv"
      },
      "execution_count": null,
      "outputs": []
    },
    {
      "cell_type": "code",
      "source": [
        "animal1 = Animal(\"Fido\")\n",
        "animal2 = Animal(\"Luna\")\n",
        "\n",
        "print(animal1.especie)  # Output: Mamífero\n",
        "print(animal2.especie)  # Output: Mamífero\n",
        "print(Animal.especie)   # Output: Mamífero (también podemos accederlo directamente desde la clase)"
      ],
      "metadata": {
        "colab": {
          "base_uri": "https://localhost:8080/"
        },
        "id": "4wyR0oa__ELz",
        "outputId": "f65ebbc9-8d0a-4447-b0c5-788a44ed8cf5"
      },
      "execution_count": null,
      "outputs": [
        {
          "output_type": "stream",
          "name": "stdout",
          "text": [
            "Mamífero\n",
            "Mamífero\n",
            "Mamífero\n"
          ]
        }
      ]
    },
    {
      "cell_type": "code",
      "source": [
        "#Usaremos atributos de instancia cuando la informacion es específica para cada objeto individual\n",
        "\"Usaremos atributos de clase cuando la información es común a todas las instancias de la clase\""
      ],
      "metadata": {
        "id": "wd4l-b8l_WN7"
      },
      "execution_count": null,
      "outputs": []
    },
    {
      "cell_type": "code",
      "source": [
        "class FabricaGalletas:\n",
        "    # Atributo de clase: Masa base compartida por todas las galletas\n",
        "    masa_base = \"Harina, azúcar, mantequilla\"\n",
        "    temperatura_horno = 180  # Atributo de clase: Temperatura común del horno\n",
        "\n",
        "    def __init__(self, nombre, tiene_chispas=False):\n",
        "        # Atributo de instancia: Nombre único de cada galleta\n",
        "        self.nombre = nombre\n",
        "        # Atributo de instancia: Indica si esta galleta tiene chispas\n",
        "        self.tiene_chispas = tiene_chispas\n",
        "        # Atributo de instancia: Estado de horneado de cada galleta\n",
        "        self.esta_horneada = False\n",
        "\n",
        "    # Método de instancia: Hornear una galleta específica\n",
        "    def hornear(self):\n",
        "        print(f\"{self.nombre} entrando al horno a {FabricaGalletas.temperatura_horno}°C.\")\n",
        "        self.esta_horneada = True\n",
        "        print(f\"{self.nombre} está horneada.\")\n",
        "\n",
        "    # Método de instancia: Morder una galleta específica\n",
        "    def morder(self):\n",
        "        if self.esta_horneada:\n",
        "            print(f\"¡Qué rica está la {self.nombre}!\")\n",
        "        else:\n",
        "            print(f\"Aún no se puede morder la {self.nombre}, ¡todavía no está horneada!\")\n",
        "\n",
        "    # Método de clase: Obtener la receta de la masa base\n",
        "    @classmethod\n",
        "    def obtener_receta_masa(cls):\n",
        "        return cls.masa_base\n",
        "\n",
        "    # Método estático: Verificar si una temperatura es segura para hornear\n",
        "    @staticmethod\n",
        "    def verificar_temperatura_segura(temperatura):\n",
        "        if temperatura >= 150 and temperatura <= 200:\n",
        "            return True\n",
        "        else:\n",
        "            return False\n",
        "\n",
        "# Creación de instancias (galletas específicas)\n",
        "galleta1 = FabricaGalletas(\"ChocoChip\", tiene_chispas=True)\n",
        "galleta2 = FabricaGalletas(\"Avena\")\n",
        "\n",
        "# Accediendo a atributos de instancia\n",
        "print(f\"Nombre de la galleta 1: {galleta1.nombre}\")\n",
        "print(f\"¿Tiene chispas la galleta 1?: {galleta1.tiene_chispas}\")\n",
        "print(f\"Nombre de la galleta 2: {galleta2.nombre}\")\n",
        "print(f\"¿Tiene chispas la galleta 2?: {galleta2.tiene_chispas}\")\n",
        "\n",
        "# Accediendo a atributos de clase\n",
        "print(f\"\\nLa masa base es: {FabricaGalletas.masa_base}\")\n",
        "print(f\"La temperatura del horno es: {galleta1.temperatura_horno} (compartida)\")\n",
        "\n",
        "# Llamando a métodos de instancia\n",
        "galleta1.hornear()\n",
        "galleta2.hornear()\n",
        "galleta1.morder()\n",
        "galleta2.morder()\n",
        "\n",
        "# Llamando a método de clase\n",
        "receta = FabricaGalletas.obtener_receta_masa()\n",
        "print(f\"\\nReceta de la masa: {receta}\")\n",
        "\n",
        "# Llamando a método estático\n",
        "temperatura_ok = FabricaGalletas.verificar_temperatura_segura(190)\n",
        "print(f\"\\n¿Es segura la temperatura de 190°C?: {temperatura_ok}\")\n",
        "temperatura_peligrosa = FabricaGalletas.verificar_temperatura_segura(100)\n",
        "print(f\"¿Es segura la temperatura de 100°C?: {temperatura_peligrosa}\")"
      ],
      "metadata": {
        "id": "AhanBy4eA5QD",
        "outputId": "be724602-b79c-439e-af9e-de12ef0a8884",
        "colab": {
          "base_uri": "https://localhost:8080/"
        }
      },
      "execution_count": null,
      "outputs": [
        {
          "output_type": "stream",
          "name": "stdout",
          "text": [
            "Nombre de la galleta 1: ChocoChip\n",
            "¿Tiene chispas la galleta 1?: True\n",
            "Nombre de la galleta 2: Avena\n",
            "¿Tiene chispas la galleta 2?: False\n",
            "\n",
            "La masa base es: Harina, azúcar, mantequilla\n",
            "La temperatura del horno es: 180 (compartida)\n",
            "ChocoChip entrando al horno a 180°C.\n",
            "ChocoChip está horneada.\n",
            "Avena entrando al horno a 180°C.\n",
            "Avena está horneada.\n",
            "¡Qué rica está la ChocoChip!\n",
            "¡Qué rica está la Avena!\n",
            "\n",
            "Receta de la masa: Harina, azúcar, mantequilla\n",
            "\n",
            "¿Es segura la temperatura de 190°C?: True\n",
            "¿Es segura la temperatura de 100°C?: False\n"
          ]
        }
      ]
    },
    {
      "cell_type": "code",
      "source": [
        "#Encapsulamiento\n",
        "public\n",
        "_protegido\n",
        "_privado"
      ],
      "metadata": {
        "id": "kDPlIaZ4pUQj"
      },
      "execution_count": null,
      "outputs": []
    },
    {
      "cell_type": "code",
      "source": [
        "class Persona:\n",
        "    def __init__(self, nombre, edad):\n",
        "        self.nombre = nombre       # público\n",
        "        self.__edad = edad         # privado\n",
        "\n",
        "    def mostrar_info(self):\n",
        "        return f\"{self.nombre}, {self.__edad} años\"\n",
        "\n",
        "    def cumpleaños(self):\n",
        "        self.__edad += 1\n",
        "\n",
        "# Crear persona\n",
        "p = Persona(\"Ana\", 30)\n",
        "\n",
        "print(p.nombre)               # ✅ acceso permitido\n",
        "#print(p.__edad)             # ❌ AttributeError\n",
        "print(p.mostrar_info())       # ✅ accedemos con un método\n",
        "p.cumpleaños()                # ✅ se modifica internamente\n",
        "print(p.mostrar_info())       # Ana, 31 años\n"
      ],
      "metadata": {
        "colab": {
          "base_uri": "https://localhost:8080/"
        },
        "id": "dZ8CqP7arALx",
        "outputId": "2a7502dd-b082-496d-a95a-97aa5e8c72dd"
      },
      "execution_count": 3,
      "outputs": [
        {
          "output_type": "stream",
          "name": "stdout",
          "text": [
            "Ana\n",
            "Ana, 30 años\n",
            "Ana, 31 años\n"
          ]
        }
      ]
    },
    {
      "cell_type": "code",
      "source": [
        "#Herencia\n",
        "class Animal:\n",
        "    def __init__(self, nombre):\n",
        "        self.nombre = nombre\n",
        "\n",
        "    def hablar(self):\n",
        "        return \"Hace un sonido\"\n",
        "\n",
        "# Clase hija que hereda de Animal\n",
        "class Perro(Animal):\n",
        "    def hablar(self):\n",
        "        return \"Guau\"\n",
        "\n",
        "class Gato(Animal):\n",
        "    def hablar(self):\n",
        "        return \"Miau\"\n",
        "\n",
        "perro = Perro(\"Firulais\")\n",
        "gato = Gato(\"Michi\")\n",
        "\n",
        "print(perro.nombre, \"dice\", perro.hablar())  # Firulais dice Guau\n",
        "print(gato.nombre, \"dice\", gato.hablar())    # Michi dice Miau\n"
      ],
      "metadata": {
        "colab": {
          "base_uri": "https://localhost:8080/"
        },
        "id": "wDM2ftZcvgnl",
        "outputId": "040fbded-ccda-4fa2-e31e-17bea7f9fd29"
      },
      "execution_count": 4,
      "outputs": [
        {
          "output_type": "stream",
          "name": "stdout",
          "text": [
            "Firulais dice Guau\n",
            "Michi dice Miau\n"
          ]
        }
      ]
    },
    {
      "cell_type": "code",
      "source": [
        "#Polimorfismo\n",
        "animales = [Perro(\"Toby\"), Gato(\"Luna\")]\n",
        "\n",
        "for animal in animales:\n",
        "    print(animal.nombre, \"hace\", animal.hablar())\n"
      ],
      "metadata": {
        "colab": {
          "base_uri": "https://localhost:8080/"
        },
        "id": "kjbFZaTLxPg7",
        "outputId": "6d7aef58-30bb-4be6-bede-c5464b051dab"
      },
      "execution_count": 5,
      "outputs": [
        {
          "output_type": "stream",
          "name": "stdout",
          "text": [
            "Toby hace Guau\n",
            "Luna hace Miau\n"
          ]
        }
      ]
    },
    {
      "cell_type": "code",
      "source": [
        "#Excepciones\n",
        "#try y except\n",
        "class Calculadora:\n",
        "    def dividir(self, dividendo, divisor):\n",
        "        try:\n",
        "            resultado = dividendo / divisor\n",
        "            return resultado\n",
        "        except ZeroDivisionError:\n",
        "            print(\"¡Error! No se puede dividir por cero.\")\n",
        "            return None\n",
        "\n",
        "calculadora = Calculadora()\n",
        "resultado1 = calculadora.dividir(10, 2)\n",
        "print(f\"Resultado 1: {resultado1}\")  # Salida: Resultado 1: 5.0\n",
        "\n",
        "resultado2 = calculadora.dividir(5, 0)\n",
        "print(f\"Resultado 2: {resultado2}\")  # Salida: ¡Error! No se puede dividir por cero.\n",
        "                                     #          Resultado 2: None"
      ],
      "metadata": {
        "colab": {
          "base_uri": "https://localhost:8080/"
        },
        "id": "jW3LV1ENy1aJ",
        "outputId": "1361806f-87c1-426b-cf40-e95e618ce3cd"
      },
      "execution_count": 6,
      "outputs": [
        {
          "output_type": "stream",
          "name": "stdout",
          "text": [
            "Resultado 1: 5.0\n",
            "¡Error! No se puede dividir por cero.\n",
            "Resultado 2: None\n"
          ]
        }
      ]
    },
    {
      "cell_type": "code",
      "source": [
        "#finally\n",
        "class ConnectionHandler:\n",
        "    def conectar(self):\n",
        "        self.conexion = None\n",
        "        try:\n",
        "            self.conexion = \"Conexión establecida\"\n",
        "            print(self.conexion)\n",
        "            # Simulación de un error\n",
        "            raise ValueError(\"Error de conexión simulado\")\n",
        "            return True\n",
        "        except ValueError as ve:\n",
        "            print(f\"Error al conectar: {ve}\")\n",
        "            return False\n",
        "        finally:\n",
        "            if self.conexion:\n",
        "                print(\"Cerrando la conexión.\")\n",
        "                self.conexion = None\n",
        "\n",
        "manejador_conexion = ConnectionHandler()\n",
        "manejador_conexion.conectar()"
      ],
      "metadata": {
        "colab": {
          "base_uri": "https://localhost:8080/"
        },
        "id": "Rotx-tPx0Eeg",
        "outputId": "dc51a88e-b816-4fad-f346-3284eb690fec"
      },
      "execution_count": 7,
      "outputs": [
        {
          "output_type": "stream",
          "name": "stdout",
          "text": [
            "Conexión establecida\n",
            "Error al conectar: Error de conexión simulado\n",
            "Cerrando la conexión.\n"
          ]
        },
        {
          "output_type": "execute_result",
          "data": {
            "text/plain": [
              "False"
            ]
          },
          "metadata": {},
          "execution_count": 7
        }
      ]
    },
    {
      "cell_type": "code",
      "source": [
        "import pandas as pd\n",
        "\n",
        "class LectorDeDatos:\n",
        "    def leer_csv(self, archivo):\n",
        "        datos = None\n",
        "        try:\n",
        "            print(f\"Intentando leer: {archivo}\")\n",
        "            datos = pd.read_csv(archivo)\n",
        "            print(\"✅ Archivo leído correctamente.\")\n",
        "        except FileNotFoundError:\n",
        "            print(\"❌ El archivo no existe.\")\n",
        "        except pd.errors.ParserError:\n",
        "            print(\"❌ Error al procesar el archivo (mal formato).\")\n",
        "        finally:\n",
        "            print(\"📦 Fin del intento de lectura.\")\n",
        "            return datos\n",
        "\n",
        "# --- USO DEL MANEJADOR ---\n",
        "lector = LectorDeDatos()\n",
        "df = lector.leer_csv(\"datos.csv\")  # Cambia esto por el nombre de tu archivo\n",
        "\n",
        "if df is not None:\n",
        "    print(df.head())\n"
      ],
      "metadata": {
        "id": "4IdR1rje1bhe"
      },
      "execution_count": null,
      "outputs": []
    }
  ]
}