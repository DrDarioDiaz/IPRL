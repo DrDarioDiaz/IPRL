{
  "nbformat": 4,
  "nbformat_minor": 0,
  "metadata": {
    "colab": {
      "provenance": []
    },
    "kernelspec": {
      "name": "python3",
      "display_name": "Python 3"
    },
    "language_info": {
      "name": "python"
    }
  },
  "cells": [
    {
      "cell_type": "markdown",
      "source": [
        "# Trabajo Práctico: Manipulación y Análisis de Datos con Python\n",
        "\n",
        "## Introducción\n",
        "\n",
        "Este trabajo práctico está diseñado para fortalecer sus conocimientos en manipulación y análisis de datos utilizando NumPy, Pandas, herramientas de visualización como Matplotlib y Seaborn, y conceptos básicos de aprendizaje automático con Scikit-learn y TensorFlow.\n",
        "\n",
        "**Instrucciones generales:**\n",
        "- Complete las celdas de código donde se indique con `# Tu código aquí`\n",
        "- Para cada ejercicio, asegúrese de mostrar el resultado solicitado\n",
        "- Los ejercicios están organizados por nivel de complejidad creciente\n",
        "- No dude en utilizar la documentación oficial de las bibliotecas y los materiales del curso"
      ],
      "metadata": {
        "id": "DOuPdIvds5q6"
      }
    },
    {
      "cell_type": "code",
      "source": [
        "# Importamos las bibliotecas necesarias\n",
        "import numpy as np\n",
        "import pandas as pd\n",
        "import matplotlib.pyplot as plt\n",
        "import seaborn as sns\n",
        "from sklearn import datasets, preprocessing, model_selection, metrics\n",
        "from sklearn.linear_model import LinearRegression, LogisticRegression\n",
        "from sklearn.tree import DecisionTreeClassifier\n",
        "import tensorflow as tf\n",
        "from tensorflow import keras\n",
        "import time\n",
        "import warnings\n",
        "\n",
        "# Configuraciones generales\n",
        "warnings.filterwarnings('ignore')\n",
        "plt.style.use('seaborn-v0_8-whitegrid')  # Para compatibilidad con versiones recientes\n",
        "sns.set_theme(style=\"whitegrid\")\n",
        "np.random.seed(42)  # Para reproducibilidad"
      ],
      "metadata": {
        "id": "_qlW1zDls-_q"
      },
      "execution_count": null,
      "outputs": []
    },
    {
      "cell_type": "markdown",
      "source": [
        "## Ejercicio 1: Lectura y escritura de datos de diferentes fuentes\n",
        "\n",
        "En este ejercicio practicaremos la lectura de datos desde diferentes formatos y fuentes.\n",
        "\n",
        "a) Cree un DataFrame con información de 5 productos (id, nombre, precio, categoría) y guárdelo en formatos CSV, Excel y JSON."
      ],
      "metadata": {
        "id": "s6egr1futb2J"
      }
    },
    {
      "cell_type": "code",
      "source": [
        "# Crear un DataFrame con información de productos\n",
        "# Tu código aquí\n",
        "\n",
        "# Guardar en diferentes formatos\n",
        "# Tu código aquí"
      ],
      "metadata": {
        "id": "9LEJW6jXtdra"
      },
      "execution_count": null,
      "outputs": []
    },
    {
      "cell_type": "markdown",
      "source": [
        "b) Lea el archivo CSV creado y muestre las primeras 3 filas."
      ],
      "metadata": {
        "id": "K9BX3OiGtj05"
      }
    },
    {
      "cell_type": "code",
      "source": [
        "# Tu código aquí"
      ],
      "metadata": {
        "id": "uBiF5ZwJtkci"
      },
      "execution_count": null,
      "outputs": []
    },
    {
      "cell_type": "markdown",
      "source": [
        "c) Lea el archivo Excel y JSON, y verifique que los datos coinciden con el DataFrame original."
      ],
      "metadata": {
        "id": "vJgnz8UdtnCC"
      }
    },
    {
      "cell_type": "code",
      "source": [
        "# Tu código aquí"
      ],
      "metadata": {
        "id": "PPo_otGLtxWK"
      },
      "execution_count": null,
      "outputs": []
    },
    {
      "cell_type": "markdown",
      "source": [
        "d) Descargue el conjunto de datos de Iris directamente desde una URL y cárguelo en un DataFrame."
      ],
      "metadata": {
        "id": "kuX7EEEqtzxZ"
      }
    },
    {
      "cell_type": "code",
      "source": [
        "# URL de datos Iris: https://archive.ics.uci.edu/ml/machine-learning-databases/iris/iris.data\n",
        "# Tu código aquí"
      ],
      "metadata": {
        "id": "bo5qG0Qtt1uy"
      },
      "execution_count": null,
      "outputs": []
    },
    {
      "cell_type": "markdown",
      "source": [
        "## Ejercicio 2: Exploración inicial de datos\n",
        "\n",
        "Utilizaremos el conocido conjunto de datos de pasajeros del Titanic para practicar técnicas de exploración inicial.\n",
        "\n",
        "a) Cargue el dataset de Titanic utilizando la siguiente celda y muestre la información básica del DataFrame (info(), shape, describe())."
      ],
      "metadata": {
        "id": "CyvV79Wgt7MZ"
      }
    },
    {
      "cell_type": "code",
      "source": [
        "# Cargar datos del Titanic\n",
        "url = \"https://raw.githubusercontent.com/datasciencedojo/datasets/master/titanic.csv\"\n",
        "titanic_df = pd.read_csv(url)\n",
        "\n",
        "# Mostrar información básica del DataFrame\n",
        "# Tu código aquí"
      ],
      "metadata": {
        "id": "K-L0eMwet95a"
      },
      "execution_count": null,
      "outputs": []
    },
    {
      "cell_type": "markdown",
      "source": [
        "b) Identifique y muestre un resumen de los valores nulos en el dataset."
      ],
      "metadata": {
        "id": "GwXPwIhLuC8Y"
      }
    },
    {
      "cell_type": "code",
      "source": [
        "# Tu código aquí"
      ],
      "metadata": {
        "id": "1PkmLiY2uDnr"
      },
      "execution_count": null,
      "outputs": []
    },
    {
      "cell_type": "markdown",
      "source": [
        "c) Explore la distribución de pasajeros por clase (Pclass) y por sexo (Sex). Muestre los resultados como tablas de frecuencia."
      ],
      "metadata": {
        "id": "hMG1Vzi1uFOR"
      }
    },
    {
      "cell_type": "code",
      "source": [
        "# Tu código aquí"
      ],
      "metadata": {
        "id": "HGR-arJDuHki"
      },
      "execution_count": null,
      "outputs": []
    },
    {
      "cell_type": "markdown",
      "source": [
        "d) Calcule la edad promedio, mediana y desviación estándar de los pasajeros, agrupados por sexo y clase."
      ],
      "metadata": {
        "id": "0MOL8qG8uJQ5"
      }
    },
    {
      "cell_type": "code",
      "source": [
        "# Tu código aquí"
      ],
      "metadata": {
        "id": "rYYdSAIcuMEZ"
      },
      "execution_count": null,
      "outputs": []
    },
    {
      "cell_type": "markdown",
      "source": [
        "## Ejercicio 3: Manipulación básica de DataFrames con Pandas\n",
        "\n",
        "a) Cree un nuevo DataFrame a partir del dataset del Titanic que incluya solo pasajeros menores de 18 años (niños)."
      ],
      "metadata": {
        "id": "vwK2S1-juOFh"
      }
    },
    {
      "cell_type": "code",
      "source": [
        "# Tu código aquí"
      ],
      "metadata": {
        "id": "3MB99nezuQc6"
      },
      "execution_count": null,
      "outputs": []
    },
    {
      "cell_type": "markdown",
      "source": [
        "b) Añada una nueva columna llamada 'Grupo_Edad' que clasifique a los pasajeros en 'Niño' (< 18), 'Adulto' (18-65) y 'Mayor' (> 65)."
      ],
      "metadata": {
        "id": "NK6qDZJWuUbx"
      }
    },
    {
      "cell_type": "code",
      "source": [
        "# Tu código aquí"
      ],
      "metadata": {
        "id": "x04f7tvjuZ-h"
      },
      "execution_count": null,
      "outputs": []
    },
    {
      "cell_type": "markdown",
      "source": [
        "c) Seleccione todas las mujeres que sobrevivieron y viajaban en primera clase."
      ],
      "metadata": {
        "id": "fiuQzPprucPg"
      }
    },
    {
      "cell_type": "code",
      "source": [
        "# Tu código aquí"
      ],
      "metadata": {
        "id": "KQQw34h_uecB"
      },
      "execution_count": null,
      "outputs": []
    },
    {
      "cell_type": "markdown",
      "source": [
        "d) Ordene el DataFrame por edad de manera descendente y por tarifa de manera ascendente."
      ],
      "metadata": {
        "id": "5O-oE7Eougmp"
      }
    },
    {
      "cell_type": "code",
      "source": [
        "# Tu código aquí"
      ],
      "metadata": {
        "id": "Dy6UNQc4ujHI"
      },
      "execution_count": null,
      "outputs": []
    },
    {
      "cell_type": "markdown",
      "source": [
        "## Ejercicio 4: Operaciones avanzadas con Pandas\n",
        "\n",
        "a) Calcule la tasa de supervivencia por clase y sexo utilizando groupby."
      ],
      "metadata": {
        "id": "hKElAdJGullo"
      }
    },
    {
      "cell_type": "code",
      "source": [
        "# Tu código aquí"
      ],
      "metadata": {
        "id": "ipS3sChGun1I"
      },
      "execution_count": null,
      "outputs": []
    },
    {
      "cell_type": "markdown",
      "source": [
        "b) Genere un nuevo DataFrame con la tarifa media, máxima y mínima por clase y puerto de embarque."
      ],
      "metadata": {
        "id": "HJsGM8Buuptg"
      }
    },
    {
      "cell_type": "code",
      "source": [
        "# Tu código aquí"
      ],
      "metadata": {
        "id": "0QkBCBvjwHJP"
      },
      "execution_count": null,
      "outputs": []
    },
    {
      "cell_type": "markdown",
      "source": [
        "c) Cree dos subconjuntos del DataFrame Titanic: uno con pasajeros que viajaban solos y otro con pasajeros que viajaban en familia. Luego, combine estos DataFrames usando concat y marque el origen de cada registro.\n",
        "\n",
        "Pista: Use las columnas SibSp (número de hermanos/cónyuges) y Parch (número de padres/hijos)"
      ],
      "metadata": {
        "id": "4JKgLy4UwI7e"
      }
    },
    {
      "cell_type": "code",
      "source": [
        "# Tu código aquí"
      ],
      "metadata": {
        "id": "JfVCnwHFwMAf"
      },
      "execution_count": null,
      "outputs": []
    },
    {
      "cell_type": "markdown",
      "source": [
        "d) Cree un pequeño DataFrame con información de puertos de embarque (códigos y nombres completos) y haga un merge con el DataFrame Titanic para reemplazar los códigos por nombres descriptivos.\n",
        "\n",
        "Puertos: C = Cherbourg, Q = Queenstown, S = Southampton"
      ],
      "metadata": {
        "id": "YZNWRzTIwOG3"
      }
    },
    {
      "cell_type": "code",
      "source": [
        "# Tu código aquí"
      ],
      "metadata": {
        "id": "h7qX_KCzwQen"
      },
      "execution_count": null,
      "outputs": []
    },
    {
      "cell_type": "markdown",
      "source": [
        "## Ejercicio 5: Manejo de valores nulos y duplicados\n",
        "\n",
        "a) Identifique todas las columnas con valores nulos en el dataset del Titanic y calcule el porcentaje de valores faltantes para cada una."
      ],
      "metadata": {
        "id": "opwJtJIFwScf"
      }
    },
    {
      "cell_type": "code",
      "source": [
        "# Tu código aquí"
      ],
      "metadata": {
        "id": "pyeMXhXFwVPe"
      },
      "execution_count": null,
      "outputs": []
    },
    {
      "cell_type": "markdown",
      "source": [
        "b) Rellene los valores faltantes de edad con la mediana de edad según clase y sexo."
      ],
      "metadata": {
        "id": "9pCZs4pCwW9e"
      }
    },
    {
      "cell_type": "code",
      "source": [
        "# Tu código aquí"
      ],
      "metadata": {
        "id": "WKc3_jNewZ5g"
      },
      "execution_count": null,
      "outputs": []
    },
    {
      "cell_type": "markdown",
      "source": [
        "c) Elimine las filas con valores nulos en la columna 'Embarked'."
      ],
      "metadata": {
        "id": "Pj73OyeDwbfH"
      }
    },
    {
      "cell_type": "code",
      "source": [
        "# Tu código aquí"
      ],
      "metadata": {
        "id": "Vd6-E24VweIH"
      },
      "execution_count": null,
      "outputs": []
    },
    {
      "cell_type": "markdown",
      "source": [
        "d) Busque y elimine registros duplicados, si existen, mostrando primero cuántos encontró."
      ],
      "metadata": {
        "id": "y-_O7_84wgRf"
      }
    },
    {
      "cell_type": "code",
      "source": [
        "# Tu código aquí"
      ],
      "metadata": {
        "id": "XJmf4EUpwh9-"
      },
      "execution_count": null,
      "outputs": []
    },
    {
      "cell_type": "markdown",
      "source": [
        "## Ejercicio 6: Operaciones con arrays NumPy\n",
        "\n",
        "a) Cree un array NumPy 3D de forma (3, 4, 5) con valores aleatorios entre 0 y 100."
      ],
      "metadata": {
        "id": "mP-vIz9Nwjsw"
      }
    },
    {
      "cell_type": "code",
      "source": [
        "# Tu código aquí"
      ],
      "metadata": {
        "id": "27M5vNwWwm1-"
      },
      "execution_count": null,
      "outputs": []
    },
    {
      "cell_type": "markdown",
      "source": [
        "b) Calcule la media, mediana, mínimo y máximo por cada \"profundidad\" del array 3D."
      ],
      "metadata": {
        "id": "HGvSCFZ0wo1P"
      }
    },
    {
      "cell_type": "code",
      "source": [
        "# Tu código aquí"
      ],
      "metadata": {
        "id": "tnWoynIRwrme"
      },
      "execution_count": null,
      "outputs": []
    },
    {
      "cell_type": "markdown",
      "source": [
        "c) Cree una matriz 5x5 con valores aleatorios y reemplace todos los valores mayores que la media con el valor 1 y los menores o iguales con 0."
      ],
      "metadata": {
        "id": "3yKXkamzwtiw"
      }
    },
    {
      "cell_type": "code",
      "source": [
        "# Tu código aquí"
      ],
      "metadata": {
        "id": "142tbvt7wvlm"
      },
      "execution_count": null,
      "outputs": []
    },
    {
      "cell_type": "markdown",
      "source": [
        "d) Demuestre el broadcasting en NumPy sumando un vector fila a todas las filas de una matriz y un vector columna a todas las columnas."
      ],
      "metadata": {
        "id": "whs63BeLwxpX"
      }
    },
    {
      "cell_type": "code",
      "source": [
        "# Tu código aquí"
      ],
      "metadata": {
        "id": "aEafWF-Ew0Y3"
      },
      "execution_count": null,
      "outputs": []
    },
    {
      "cell_type": "markdown",
      "source": [
        "## Ejercicio 7: Análisis estadístico con Pandas y NumPy\n",
        "\n",
        "a) A partir del dataset del Titanic, calcule la correlación entre todas las variables numéricas."
      ],
      "metadata": {
        "id": "OneXTs0-w3F2"
      }
    },
    {
      "cell_type": "code",
      "source": [
        "# Tu código aquí"
      ],
      "metadata": {
        "id": "eJXuzFw3w80P"
      },
      "execution_count": null,
      "outputs": []
    },
    {
      "cell_type": "markdown",
      "source": [
        "b) Normalice (escala 0-1) las columnas numéricas 'Age' y 'Fare' del dataset del Titanic."
      ],
      "metadata": {
        "id": "QdzC3VQmw_b_"
      }
    },
    {
      "cell_type": "code",
      "source": [
        "# Tu código aquí"
      ],
      "metadata": {
        "id": "Jf9JbBKSxBZ3"
      },
      "execution_count": null,
      "outputs": []
    },
    {
      "cell_type": "markdown",
      "source": [
        "c) Aplique una transformación logarítmica a la columna 'Fare' para reducir su asimetría y compare las estadísticas antes y después."
      ],
      "metadata": {
        "id": "VS0-567WxC-e"
      }
    },
    {
      "cell_type": "code",
      "source": [
        "# Tu código aquí"
      ],
      "metadata": {
        "id": "6piuDLZtxE42"
      },
      "execution_count": null,
      "outputs": []
    },
    {
      "cell_type": "markdown",
      "source": [
        "d) Realice un análisis de valores atípicos (outliers) en la columna 'Fare' utilizando el método IQR."
      ],
      "metadata": {
        "id": "fBHBeJt7xGy2"
      }
    },
    {
      "cell_type": "code",
      "source": [
        "# Tu código aquí"
      ],
      "metadata": {
        "id": "7FG2xhgOxI0-"
      },
      "execution_count": null,
      "outputs": []
    },
    {
      "cell_type": "markdown",
      "source": [
        "## Ejercicio 8: Optimización de rendimiento en procesamiento de datos\n",
        "\n",
        "a) Compare el rendimiento entre un bucle for tradicional y una operación vectorizada de NumPy para calcular la raíz cuadrada de un millón de números."
      ],
      "metadata": {
        "id": "eZMv8gjBxLn-"
      }
    },
    {
      "cell_type": "code",
      "source": [
        "# Tu código aquí"
      ],
      "metadata": {
        "id": "kbxSjr0gxPMP"
      },
      "execution_count": null,
      "outputs": []
    },
    {
      "cell_type": "markdown",
      "source": [
        "b) Compare el rendimiento de .apply() vs. vectorización en Pandas para convertir una columna de texto a mayúsculas."
      ],
      "metadata": {
        "id": "jMA_z3oaxQ4e"
      }
    },
    {
      "cell_type": "code",
      "source": [
        "# Tu código aquí"
      ],
      "metadata": {
        "id": "j0AM7A7YxTOd"
      },
      "execution_count": null,
      "outputs": []
    },
    {
      "cell_type": "markdown",
      "source": [
        "c) Demuestre cómo optimizar el uso de memoria de un DataFrame grande mediante la conversión adecuada de tipos de datos."
      ],
      "metadata": {
        "id": "63JeY8wvxVCW"
      }
    },
    {
      "cell_type": "code",
      "source": [
        "# Tu código aquí"
      ],
      "metadata": {
        "id": "pMxuS7-TxXS-"
      },
      "execution_count": null,
      "outputs": []
    },
    {
      "cell_type": "markdown",
      "source": [
        "d) Implemente y compare dos métodos para calcular la frecuencia de cada letra en una cadena larga: uno usando un enfoque tradicional y otro usando técnicas de vectorización."
      ],
      "metadata": {
        "id": "wLk3cn_JxY8m"
      }
    },
    {
      "cell_type": "code",
      "source": [
        "# Tu código aquí"
      ],
      "metadata": {
        "id": "AGqso3Luxaz2"
      },
      "execution_count": null,
      "outputs": []
    },
    {
      "cell_type": "markdown",
      "source": [
        "## Ejercicio 9: Visualización básica con Matplotlib\n",
        "\n",
        "a) Cree un gráfico de líneas que muestre la evolución de la tasa de supervivencia por edad en el Titanic."
      ],
      "metadata": {
        "id": "uUxFA89wxc19"
      }
    },
    {
      "cell_type": "code",
      "source": [
        "# Tu código aquí"
      ],
      "metadata": {
        "id": "PQ18atWdxe8W"
      },
      "execution_count": null,
      "outputs": []
    },
    {
      "cell_type": "markdown",
      "source": [
        "b) Genere un gráfico de barras que compare la tarifa promedio pagada por clase y sexo."
      ],
      "metadata": {
        "id": "qw7QlS9cxg9l"
      }
    },
    {
      "cell_type": "code",
      "source": [
        "# Tu código aquí"
      ],
      "metadata": {
        "id": "PlOlntf5xire"
      },
      "execution_count": null,
      "outputs": []
    },
    {
      "cell_type": "markdown",
      "source": [
        "c) Cree un histograma de la distribución de edades, con bins de 5 años, separando por supervivencia."
      ],
      "metadata": {
        "id": "OtUKw-OmxkxF"
      }
    },
    {
      "cell_type": "code",
      "source": [
        "# Tu código aquí"
      ],
      "metadata": {
        "id": "kuTcvWeVxqAO"
      },
      "execution_count": null,
      "outputs": []
    },
    {
      "cell_type": "markdown",
      "source": [
        "d) Produzca un gráfico de dispersión que relacione la edad y la tarifa, diferenciando por clase y supervivencia mediante colores y tamaños."
      ],
      "metadata": {
        "id": "DxsvOxRkxu1d"
      }
    },
    {
      "cell_type": "code",
      "source": [
        "# Tu código aquí"
      ],
      "metadata": {
        "id": "CFuBS2rMx1XV"
      },
      "execution_count": null,
      "outputs": []
    },
    {
      "cell_type": "markdown",
      "source": [
        "## Ejercicio 10: Visualización avanzada con Seaborn\n",
        "\n",
        "a) Cree un boxplot que compare la distribución de tarifas por clase y supervivencia."
      ],
      "metadata": {
        "id": "pxqE87Xxx3Kd"
      }
    },
    {
      "cell_type": "code",
      "source": [
        "# Tu código aquí"
      ],
      "metadata": {
        "id": "AcI-xa64x5nV"
      },
      "execution_count": null,
      "outputs": []
    },
    {
      "cell_type": "markdown",
      "source": [
        "b) Genere un mapa de calor de la matriz de correlación de las variables numéricas del dataset."
      ],
      "metadata": {
        "id": "BjFVryeBx7h2"
      }
    },
    {
      "cell_type": "code",
      "source": [
        "# Tu código aquí"
      ],
      "metadata": {
        "id": "cIFQmeIax9yN"
      },
      "execution_count": null,
      "outputs": []
    },
    {
      "cell_type": "markdown",
      "source": [
        "c) Utilice un violin plot para comparar la distribución de edades por clase y sexo."
      ],
      "metadata": {
        "id": "dCbiqUaAx_a9"
      }
    },
    {
      "cell_type": "code",
      "source": [
        "# Tu código aquí"
      ],
      "metadata": {
        "id": "Yg98t0DDyBRl"
      },
      "execution_count": null,
      "outputs": []
    },
    {
      "cell_type": "markdown",
      "source": [
        "d) Cree un pair plot para explorar relaciones entre 'Age', 'Fare', 'Pclass' y 'Survived'."
      ],
      "metadata": {
        "id": "EJbO3RyjyDKE"
      }
    },
    {
      "cell_type": "code",
      "source": [
        "# Tu código aquí"
      ],
      "metadata": {
        "id": "pUKoVx1CyEs1"
      },
      "execution_count": null,
      "outputs": []
    },
    {
      "cell_type": "markdown",
      "source": [
        "## Ejercicio 11: Creación de un dashboard de visualización\n",
        "\n",
        "Cree un dashboard completo con al menos 4 visualizaciones diferentes organizadas en una cuadrícula de 2x2, que resuma los aspectos más importantes del dataset del Titanic."
      ],
      "metadata": {
        "id": "jVWPevSEyGON"
      }
    },
    {
      "cell_type": "code",
      "source": [
        "# Tu código aquí"
      ],
      "metadata": {
        "id": "LRHjbeG9yIat"
      },
      "execution_count": null,
      "outputs": []
    },
    {
      "cell_type": "markdown",
      "source": [
        "## Ejercicio 12: Preprocesamiento de datos para aprendizaje automático\n",
        "\n",
        "a) Prepare el dataset del Titanic para modelado:\n",
        "   - Maneje valores nulos\n",
        "   - Convierta variables categóricas a numéricas\n",
        "   - Seleccione características relevantes\n",
        "   - Divida en conjuntos de entrenamiento y prueba"
      ],
      "metadata": {
        "id": "soOuVCvMyKRe"
      }
    },
    {
      "cell_type": "code",
      "source": [
        "# Tu código aquí"
      ],
      "metadata": {
        "id": "Kis0NsS0yNSs"
      },
      "execution_count": null,
      "outputs": []
    },
    {
      "cell_type": "markdown",
      "source": [
        "b) Estandarice las características numéricas utilizando StandardScaler."
      ],
      "metadata": {
        "id": "_Rt2gsuqyQ5M"
      }
    },
    {
      "cell_type": "code",
      "source": [
        "# Tu código aquí"
      ],
      "metadata": {
        "id": "H-TZZrgYySm8"
      },
      "execution_count": null,
      "outputs": []
    },
    {
      "cell_type": "markdown",
      "source": [
        "c) Aplique one-hot encoding a la variable categórica 'Embarked'."
      ],
      "metadata": {
        "id": "z0G-fSYhyUKV"
      }
    },
    {
      "cell_type": "code",
      "source": [
        "# Tu código aquí"
      ],
      "metadata": {
        "id": "2585jZBPyVtF"
      },
      "execution_count": null,
      "outputs": []
    },
    {
      "cell_type": "markdown",
      "source": [
        "d) Genere un pipeline de preprocesamiento que incluya todas estas transformaciones."
      ],
      "metadata": {
        "id": "KOBXdxjryXVs"
      }
    },
    {
      "cell_type": "code",
      "source": [
        "# Tu código aquí"
      ],
      "metadata": {
        "id": "R9z0ajJvyZD1"
      },
      "execution_count": null,
      "outputs": []
    },
    {
      "cell_type": "markdown",
      "source": [
        "## Ejercicio 13: Modelos básicos con Scikit-learn\n",
        "\n",
        "a) Entrene un modelo de regresión logística para predecir la supervivencia en el Titanic."
      ],
      "metadata": {
        "id": "hfm24hpqybUs"
      }
    },
    {
      "cell_type": "code",
      "source": [
        "# Tu código aquí"
      ],
      "metadata": {
        "id": "OWz7jHdpydKk"
      },
      "execution_count": null,
      "outputs": []
    },
    {
      "cell_type": "markdown",
      "source": [
        "b) Evalúe el modelo utilizando precisión, recall, F1-score y una matriz de confusión."
      ],
      "metadata": {
        "id": "s0amHgPlye9U"
      }
    },
    {
      "cell_type": "code",
      "source": [
        "# Tu código aquí"
      ],
      "metadata": {
        "id": "pv3vLW-0ygot"
      },
      "execution_count": null,
      "outputs": []
    },
    {
      "cell_type": "markdown",
      "source": [
        "c) Entrene un modelo de árbol de decisión y compare su rendimiento con la regresión logística."
      ],
      "metadata": {
        "id": "m3rlLxBcyiWs"
      }
    },
    {
      "cell_type": "code",
      "source": [
        "# Tu código aquí"
      ],
      "metadata": {
        "id": "sQ7PSC7yykKc"
      },
      "execution_count": null,
      "outputs": []
    },
    {
      "cell_type": "markdown",
      "source": [
        "d) Utilice validación cruzada para evaluar ambos modelos de manera más robusta."
      ],
      "metadata": {
        "id": "z7zOO-nnymAl"
      }
    },
    {
      "cell_type": "code",
      "source": [
        "# Tu código aquí"
      ],
      "metadata": {
        "id": "VQFg5nCOyn6A"
      },
      "execution_count": null,
      "outputs": []
    },
    {
      "cell_type": "markdown",
      "source": [
        "## Ejercicio 14: Carga y análisis de un dataset diferente\n",
        "\n",
        "Utilice el conjunto de datos de diabetes de Scikit-learn para:\n",
        "a) Cargar y explorar el dataset\n",
        "b) Realizar un análisis estadístico básico\n",
        "c) Visualizar las relaciones entre variables\n",
        "d) Preparar los datos para modelado"
      ],
      "metadata": {
        "id": "ZhnX1uUxypdc"
      }
    },
    {
      "cell_type": "code",
      "source": [
        "# Cargar el dataset\n",
        "from sklearn.datasets import load_diabetes\n",
        "diabetes = load_diabetes()\n",
        "\n",
        "# Tu código aquí"
      ],
      "metadata": {
        "id": "kqEJ-m7my3m9"
      },
      "execution_count": null,
      "outputs": []
    },
    {
      "cell_type": "markdown",
      "source": [
        "## Ejercicio 15: Regresión lineal con Scikit-learn\n",
        "\n",
        "a) Entrene un modelo de regresión lineal en el dataset de diabetes."
      ],
      "metadata": {
        "id": "ixKlQx-Hy4m-"
      }
    },
    {
      "cell_type": "code",
      "source": [
        "# Tu código aquí"
      ],
      "metadata": {
        "id": "tIFElSrfy74u"
      },
      "execution_count": null,
      "outputs": []
    },
    {
      "cell_type": "markdown",
      "source": [
        "b) Evalúe el rendimiento del modelo utilizando R², MSE y MAE."
      ],
      "metadata": {
        "id": "EOkbhIY5y-KE"
      }
    },
    {
      "cell_type": "code",
      "source": [
        "# Tu código aquí"
      ],
      "metadata": {
        "id": "WbbEVTZ9y_4l"
      },
      "execution_count": null,
      "outputs": []
    },
    {
      "cell_type": "markdown",
      "source": [
        "c) Visualice las predicciones vs. valores reales."
      ],
      "metadata": {
        "id": "LQbrkHJazD0U"
      }
    },
    {
      "cell_type": "code",
      "source": [
        "# Tu código aquí"
      ],
      "metadata": {
        "id": "qICoCmqIzFmV"
      },
      "execution_count": null,
      "outputs": []
    },
    {
      "cell_type": "markdown",
      "source": [
        "d) Realice un análisis de los coeficientes del modelo para identificar las características más importantes."
      ],
      "metadata": {
        "id": "51dt24CFzHU8"
      }
    },
    {
      "cell_type": "code",
      "source": [
        "# Tu código aquí"
      ],
      "metadata": {
        "id": "SQAvYGYezJE7"
      },
      "execution_count": null,
      "outputs": []
    },
    {
      "cell_type": "markdown",
      "source": [
        "## Ejercicio 16: Introducción a redes neuronales con TensorFlow/Keras\n",
        "\n",
        "a) Cargue el dataset MNIST de dígitos manuscritos."
      ],
      "metadata": {
        "id": "G7EpddrwzKwE"
      }
    },
    {
      "cell_type": "code",
      "source": [
        "mnist = tf.keras.datasets.mnist\n",
        "(x_train, y_train), (x_test, y_test) = mnist.load_data()\n",
        "\n",
        "# Tu código aquí"
      ],
      "metadata": {
        "id": "F3JDFRBPzNWc"
      },
      "execution_count": null,
      "outputs": []
    },
    {
      "cell_type": "markdown",
      "source": [
        "b) Prepare y normalice los datos para entrenamiento."
      ],
      "metadata": {
        "id": "-M38Y1rRzOvV"
      }
    },
    {
      "cell_type": "code",
      "source": [
        "# Tu código aquí"
      ],
      "metadata": {
        "id": "2wn3RD5EzQqT"
      },
      "execution_count": null,
      "outputs": []
    },
    {
      "cell_type": "markdown",
      "source": [
        "c) Cree un modelo de red neuronal secuencial con al menos 2 capas ocultas."
      ],
      "metadata": {
        "id": "0z1YG9Y1zSSb"
      }
    },
    {
      "cell_type": "code",
      "source": [
        "# Tu código aquí"
      ],
      "metadata": {
        "id": "7QX-1n3KzUIz"
      },
      "execution_count": null,
      "outputs": []
    },
    {
      "cell_type": "markdown",
      "source": [
        "d) Entrene el modelo, visualice la curva de aprendizaje y evalúe su precisión en el conjunto de prueba."
      ],
      "metadata": {
        "id": "OxKkDzzBzVne"
      }
    },
    {
      "cell_type": "code",
      "source": [
        "# Tu código aquí"
      ],
      "metadata": {
        "id": "SA1R0YvlzXsD"
      },
      "execution_count": null,
      "outputs": []
    },
    {
      "cell_type": "markdown",
      "source": [
        "## Ejercicio 17: Aplicación práctica - Análisis de series temporales\n",
        "\n",
        "Analice el dataset de pasajeros de aerolíneas (disponible en Seaborn):\n",
        "\n",
        "a) Cargue y visualice la serie temporal."
      ],
      "metadata": {
        "id": "IBqcUyY9ziWT"
      }
    },
    {
      "cell_type": "code",
      "source": [
        "flights = sns.load_dataset('flights')\n",
        "\n",
        "# Tu código aquí"
      ],
      "metadata": {
        "id": "wdCR5Nm4zkTr"
      },
      "execution_count": null,
      "outputs": []
    },
    {
      "cell_type": "markdown",
      "source": [
        "b) Descomponga la serie en tendencia, estacionalidad y residuos."
      ],
      "metadata": {
        "id": "1v4CKKL4zmRL"
      }
    },
    {
      "cell_type": "code",
      "source": [
        "# Tu código aquí"
      ],
      "metadata": {
        "id": "UaS_fyWjzoDs"
      },
      "execution_count": null,
      "outputs": []
    },
    {
      "cell_type": "markdown",
      "source": [
        "c) Analice patrones mensuales y anuales mediante visualizaciones."
      ],
      "metadata": {
        "id": "WhtEzjetzpo8"
      }
    },
    {
      "cell_type": "code",
      "source": [
        "# Tu código aquí"
      ],
      "metadata": {
        "id": "c-2xHo51zr1L"
      },
      "execution_count": null,
      "outputs": []
    },
    {
      "cell_type": "markdown",
      "source": [
        "d) Prepare los datos para un modelo predictivo (opcional: construya un modelo simple)."
      ],
      "metadata": {
        "id": "Er_4Gbg3ztSG"
      }
    },
    {
      "cell_type": "code",
      "source": [
        "# Tu código aquí"
      ],
      "metadata": {
        "id": "vflwbk8IzvAz"
      },
      "execution_count": null,
      "outputs": []
    },
    {
      "cell_type": "markdown",
      "source": [
        "## Ejercicio 18: Combinación de múltiples fuentes de datos\n",
        "\n",
        "a) Cree tres DataFrames diferentes: uno con información demográfica de clientes, otro con historial de compras y otro con valoraciones de productos."
      ],
      "metadata": {
        "id": "OaeTkpp7zwnU"
      }
    },
    {
      "cell_type": "code",
      "source": [
        "# Tu código aquí"
      ],
      "metadata": {
        "id": "Rq3240WHz1mk"
      },
      "execution_count": null,
      "outputs": []
    },
    {
      "cell_type": "markdown",
      "source": [
        "b) Utilice operaciones de merge/join para combinar la información en un único DataFrame."
      ],
      "metadata": {
        "id": "v9egRQsgz7fT"
      }
    },
    {
      "cell_type": "code",
      "source": [
        "# Tu código aquí"
      ],
      "metadata": {
        "id": "bB3E3U7ez92q"
      },
      "execution_count": null,
      "outputs": []
    },
    {
      "cell_type": "markdown",
      "source": [
        "c) Realice un análisis que responda: ¿Qué grupos demográficos gastan más? ¿Cómo se relaciona el gasto con las valoraciones?"
      ],
      "metadata": {
        "id": "BZCGQ-DCz_kb"
      }
    },
    {
      "cell_type": "code",
      "source": [
        "# Tu código aquí"
      ],
      "metadata": {
        "id": "HRFfM9dF0Bpb"
      },
      "execution_count": null,
      "outputs": []
    },
    {
      "cell_type": "markdown",
      "source": [
        "d) Visualice las relaciones encontradas mediante gráficos apropiados."
      ],
      "metadata": {
        "id": "ICJai7IN0DOb"
      }
    },
    {
      "cell_type": "code",
      "source": [
        "# Tu código aquí"
      ],
      "metadata": {
        "id": "Zjk0n7Do0Fb0"
      },
      "execution_count": null,
      "outputs": []
    },
    {
      "cell_type": "markdown",
      "source": [
        "## Ejercicio 19: Optimización de hiperparámetros en un modelo de aprendizaje automático\n",
        "\n",
        "a) Utilizando el dataset de iris, prepare los datos para modelado."
      ],
      "metadata": {
        "id": "KyHqhine0HOz"
      }
    },
    {
      "cell_type": "code",
      "source": [
        "iris = datasets.load_iris()\n",
        "\n",
        "# Tu código aquí"
      ],
      "metadata": {
        "id": "aYC3OKrE0J0r"
      },
      "execution_count": null,
      "outputs": []
    },
    {
      "cell_type": "markdown",
      "source": [
        "b) Defina una cuadrícula de hiperparámetros para un modelo de clasificación (árbol de decisión o SVM)."
      ],
      "metadata": {
        "id": "0eX-X2F30Lxt"
      }
    },
    {
      "cell_type": "code",
      "source": [
        "# Tu código aquí"
      ],
      "metadata": {
        "id": "tXRhpb_U0Nha"
      },
      "execution_count": null,
      "outputs": []
    },
    {
      "cell_type": "markdown",
      "source": [
        "c) Utilice GridSearchCV para encontrar la mejor combinación de hiperparámetros."
      ],
      "metadata": {
        "id": "1A9J3jea0PJE"
      }
    },
    {
      "cell_type": "code",
      "source": [
        "# Tu código aquí"
      ],
      "metadata": {
        "id": "Bs5hrdqV0QrT"
      },
      "execution_count": null,
      "outputs": []
    },
    {
      "cell_type": "markdown",
      "source": [
        "d) Evalúe el modelo optimizado y compare con la versión predeterminada."
      ],
      "metadata": {
        "id": "VFFRiFAL0SP7"
      }
    },
    {
      "cell_type": "code",
      "source": [
        "# Tu código aquí"
      ],
      "metadata": {
        "id": "SQeBPGPB0UrD"
      },
      "execution_count": null,
      "outputs": []
    },
    {
      "cell_type": "markdown",
      "source": [
        "## Ejercicio 20: Proyecto final integrador\n",
        "\n",
        "Elija uno de los siguientes datasets para realizar un análisis completo:\n",
        "- Calidad del vino (Wine Quality)\n",
        "- Precios de viviendas (Boston Housing)\n",
        "- Accidentes aéreos (Aviones dataset)\n",
        "- Otro dataset de su elección (con aprobación previa)\n",
        "\n",
        "Desarrolle un proyecto que incluya:\n",
        "1. Exploración inicial de datos\n",
        "2. Limpieza y preprocesamiento\n",
        "3. Análisis estadístico\n",
        "4. Visualizaciones informativas\n",
        "5. Modelado predictivo\n",
        "6. Evaluación de resultados\n",
        "7. Conclusiones y recomendaciones"
      ],
      "metadata": {
        "id": "xln8Rw-P0WL6"
      }
    },
    {
      "cell_type": "code",
      "source": [
        "# Dataset de calidad del vino (ejemplo)\n",
        "url = \"https://archive.ics.uci.edu/ml/machine-learning-databases/wine-quality/winequality-red.csv\"\n",
        "wine = pd.read_csv(url, sep=';')\n",
        "\n",
        "# Tu código aquí"
      ],
      "metadata": {
        "id": "ZibpDueQ0akb"
      },
      "execution_count": null,
      "outputs": []
    },
    {
      "cell_type": "markdown",
      "source": [
        "## Conclusión y Entrega\n",
        "\n",
        "Este trabajo práctico le permitirá aplicar de manera integrada los conocimientos adquiridos sobre manipulación de datos, visualización y aprendizaje automático.\n",
        "\n",
        "**Criterios de evaluación:**\n",
        "- Correcta implementación de las soluciones\n",
        "- Calidad del código (legibilidad, eficiencia, documentación)\n",
        "- Pertinencia de los análisis y visualizaciones\n",
        "- Interpretación adecuada de los resultados\n",
        "\n",
        "**Fecha de entrega:** 30/04/25\n",
        "\n",
        "**Forma de entrega:** Suba este notebook completado al aula virtual."
      ],
      "metadata": {
        "id": "BPp0m9kN0eIS"
      }
    }
  ]
}